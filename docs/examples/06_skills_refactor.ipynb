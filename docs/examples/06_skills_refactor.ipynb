{
 "cells": [
  {
   "attachments": {},
   "cell_type": "markdown",
   "metadata": {},
   "source": [
    "#### Overloaded Operators: \n",
    "Modify and refine skills using operator overloading.\n",
    "\n",
    "1. **Combining Skills**: Utilize the `+` operator to chain or execute skills in parallel, detailing the coordination with the `>` operator.\n",
    "\n",
    "```python\n",
    "new_skill = skillA + skillB > \"Explanation of how skills A and B operate together\"\n",
    "```\n",
    "   \n",
    "2. **Refactoring Skills**: Employ the `>` operator to enhance or modify existing skills.\n",
    "   ```python\n",
    "   refactored_skill = skill > \"Descriptive alterations or enhancements\"\n",
    "   ```\n",
    "   \n",
    "3. **Decomposing Skills**: Use the `<` operator to break down a skill into simpler components.\n",
    "   ```python\n",
    "   simpler_skills = skill < \"Description of how the skill should be decomposed\"\n",
    "   ```\n",
    "\n",
    "#### Notes:\n",
    "- Ensure accurate descriptions when using overloaded operators to ensure skill modifications are clear and understandable.\n",
    "- Validate skills with `test` method to ensure functionality post-modification.\n"
   ]
  },
  {
   "cell_type": "code",
   "execution_count": 1,
   "metadata": {},
   "outputs": [],
   "source": [
    "from creator import create\n",
    "from creator.core.skill import CodeSkill, BaseSkillMetadata"
   ]
  },
  {
   "attachments": {},
   "cell_type": "markdown",
   "metadata": {},
   "source": [
    "#### 1 Refactor Case: Finetune a Skill Object\n",
    "\n",
    "- add input parameter\n",
    "- add output\n",
    "- change logic"
   ]
  },
  {
   "cell_type": "code",
   "execution_count": 2,
   "metadata": {},
   "outputs": [],
   "source": [
    "skillA_schema = {\n",
    "    \"skill_name\": \"data_cleaning\",\n",
    "    \"skill_description\": \"Cleans input data by converting string representations of 'null' and 'NaN' to actual null values, and then removing null values and duplicates.\",\n",
    "    \"skill_tags\": [\"data_processing\", \"cleaning\", \"null_removal\", \"duplicate_removal\"],\n",
    "    \"skill_usage_example\": \"data_cleaning(input_data, remove_duplicates=True)\",\n",
    "    \"skill_program_language\": \"python\",\n",
    "    \"skill_code\": \"\"\"\n",
    "def data_cleaning(data, remove_duplicates=True):\n",
    "    # Convert string representations of null to actual null values\n",
    "    data = data.replace({'null': None, 'NaN': None})\n",
    "    \n",
    "    # Remove null values\n",
    "    data = data.dropna()\n",
    "    \n",
    "    # Remove duplicates if specified\n",
    "    if remove_duplicates:\n",
    "        data = data.drop_duplicates()\n",
    "    \n",
    "    return data\n",
    "    \"\"\",\n",
    "    \"skill_parameters\": [\n",
    "        {\n",
    "            \"param_name\": \"data\",\n",
    "            \"param_type\": \"array\",\n",
    "            \"param_description\": \"The input dataset that needs cleaning.\",\n",
    "            \"param_required\": True\n",
    "        },\n",
    "        {\n",
    "            \"param_name\": \"remove_duplicates\",\n",
    "            \"param_type\": \"boolean\",\n",
    "            \"param_description\": \"Flag to determine if duplicates should be removed. Defaults to True.\",\n",
    "            \"param_required\": False,\n",
    "            \"param_default\": True\n",
    "        }\n",
    "    ],\n",
    "    \"skill_return\": {\n",
    "        \"param_name\": \"cleaned_data\",\n",
    "        \"param_type\": \"array\",\n",
    "        \"param_description\": \"The cleaned dataset with string 'null'/'NaN' values converted to actual nulls, and nulls and duplicates removed based on specified parameters.\"\n",
    "    },\n",
    "    \"skill_dependencies\": [\n",
    "        {\n",
    "            \"dependency_name\": \"pandas\",\n",
    "            \"dependency_version\": \"1.2.0\",\n",
    "            \"dependency_type\": \"package\"\n",
    "        }\n",
    "    ]\n",
    "}\n",
    "skillA = CodeSkill(**skillA_schema)\n",
    "skillA.skill_metadata = BaseSkillMetadata()"
   ]
  },
  {
   "cell_type": "code",
   "execution_count": 3,
   "metadata": {},
   "outputs": [
    {
     "data": {
      "text/html": [
       "<pre style=\"white-space:pre;overflow-x:auto;line-height:normal;font-family:Menlo,'DejaVu Sans Mono',consolas,'Courier New',monospace\">\n",
       "                                                  <span style=\"font-weight: bold; text-decoration: underline\">Skill Details:</span>                                                   \n",
       "\n",
       "<span style=\"color: #808000; text-decoration-color: #808000; font-weight: bold\"> • </span><span style=\"font-weight: bold\">Name</span>: data_cleaning                                                                                             \n",
       "<span style=\"color: #808000; text-decoration-color: #808000; font-weight: bold\"> • </span><span style=\"font-weight: bold\">Description</span>: Cleans input data by converting string representations of 'null' and 'NaN' to actual null values,  \n",
       "<span style=\"color: #808000; text-decoration-color: #808000; font-weight: bold\">   </span>and then removing null values and duplicates.                                                                   \n",
       "<span style=\"color: #808000; text-decoration-color: #808000; font-weight: bold\"> • </span><span style=\"font-weight: bold\">Version</span>: 1.0.0                                                                                                  \n",
       "<span style=\"color: #808000; text-decoration-color: #808000; font-weight: bold\"> • </span><span style=\"font-weight: bold\">Usage</span>:                                                                                                          \n",
       "\n",
       "<span style=\"background-color: #272822\">                                                                                                                   </span>\n",
       "<span style=\"background-color: #272822\"> </span><span style=\"color: #f8f8f2; text-decoration-color: #f8f8f2; background-color: #272822\">data_cleaning(input_data, remove_duplicates</span><span style=\"color: #ff4689; text-decoration-color: #ff4689; background-color: #272822\">=</span><span style=\"color: #66d9ef; text-decoration-color: #66d9ef; background-color: #272822\">True</span><span style=\"color: #f8f8f2; text-decoration-color: #f8f8f2; background-color: #272822\">)</span><span style=\"background-color: #272822\">                                                                 </span>\n",
       "<span style=\"background-color: #272822\">                                                                                                                   </span>\n",
       "\n",
       "<span style=\"color: #808000; text-decoration-color: #808000; font-weight: bold\"> • </span><span style=\"font-weight: bold\">Parameters</span>:                                                                                                     \n",
       "<span style=\"color: #808000; text-decoration-color: #808000; font-weight: bold\">    • </span><span style=\"font-weight: bold\">data</span> (array): The input dataset that needs cleaning.                                                         \n",
       "<span style=\"color: #808000; text-decoration-color: #808000; font-weight: bold\">       • </span>Required: True                                                                                            \n",
       "<span style=\"color: #808000; text-decoration-color: #808000; font-weight: bold\">    • </span><span style=\"font-weight: bold\">remove_duplicates</span> (boolean): Flag to determine if duplicates should be removed. Defaults to True.            \n",
       "<span style=\"color: #808000; text-decoration-color: #808000; font-weight: bold\">       • </span>Default: True                                                                                             \n",
       "<span style=\"color: #808000; text-decoration-color: #808000; font-weight: bold\"> • </span><span style=\"font-weight: bold\">Returns</span>:                                                                                                        \n",
       "<span style=\"color: #808000; text-decoration-color: #808000; font-weight: bold\">    • </span><span style=\"font-weight: bold\">cleaned_data</span> (array): The cleaned dataset with string 'null'/'NaN' values converted to actual nulls, and     \n",
       "<span style=\"color: #808000; text-decoration-color: #808000; font-weight: bold\">      </span>nulls and duplicates removed based on specified parameters.                                                  \n",
       "</pre>\n"
      ],
      "text/plain": [
       "\n",
       "                                                  \u001b[1;4mSkill Details:\u001b[0m                                                   \n",
       "\n",
       "\u001b[1;33m • \u001b[0m\u001b[1mName\u001b[0m: data_cleaning                                                                                             \n",
       "\u001b[1;33m • \u001b[0m\u001b[1mDescription\u001b[0m: Cleans input data by converting string representations of 'null' and 'NaN' to actual null values,  \n",
       "\u001b[1;33m   \u001b[0mand then removing null values and duplicates.                                                                   \n",
       "\u001b[1;33m • \u001b[0m\u001b[1mVersion\u001b[0m: 1.0.0                                                                                                  \n",
       "\u001b[1;33m • \u001b[0m\u001b[1mUsage\u001b[0m:                                                                                                          \n",
       "\n",
       "\u001b[48;2;39;40;34m                                                                                                                   \u001b[0m\n",
       "\u001b[48;2;39;40;34m \u001b[0m\u001b[38;2;248;248;242;48;2;39;40;34mdata_cleaning\u001b[0m\u001b[38;2;248;248;242;48;2;39;40;34m(\u001b[0m\u001b[38;2;248;248;242;48;2;39;40;34minput_data\u001b[0m\u001b[38;2;248;248;242;48;2;39;40;34m,\u001b[0m\u001b[38;2;248;248;242;48;2;39;40;34m \u001b[0m\u001b[38;2;248;248;242;48;2;39;40;34mremove_duplicates\u001b[0m\u001b[38;2;255;70;137;48;2;39;40;34m=\u001b[0m\u001b[38;2;102;217;239;48;2;39;40;34mTrue\u001b[0m\u001b[38;2;248;248;242;48;2;39;40;34m)\u001b[0m\u001b[48;2;39;40;34m                                                                \u001b[0m\u001b[48;2;39;40;34m \u001b[0m\n",
       "\u001b[48;2;39;40;34m                                                                                                                   \u001b[0m\n",
       "\n",
       "\u001b[1;33m • \u001b[0m\u001b[1mParameters\u001b[0m:                                                                                                     \n",
       "\u001b[1;33m   \u001b[0m\u001b[1;33m • \u001b[0m\u001b[1mdata\u001b[0m (array): The input dataset that needs cleaning.                                                         \n",
       "\u001b[1;33m   \u001b[0m\u001b[1;33m   \u001b[0m\u001b[1;33m • \u001b[0mRequired: True                                                                                            \n",
       "\u001b[1;33m   \u001b[0m\u001b[1;33m • \u001b[0m\u001b[1mremove_duplicates\u001b[0m (boolean): Flag to determine if duplicates should be removed. Defaults to True.            \n",
       "\u001b[1;33m   \u001b[0m\u001b[1;33m   \u001b[0m\u001b[1;33m • \u001b[0mDefault: True                                                                                             \n",
       "\u001b[1;33m • \u001b[0m\u001b[1mReturns\u001b[0m:                                                                                                        \n",
       "\u001b[1;33m   \u001b[0m\u001b[1;33m • \u001b[0m\u001b[1mcleaned_data\u001b[0m (array): The cleaned dataset with string 'null'/'NaN' values converted to actual nulls, and     \n",
       "\u001b[1;33m   \u001b[0m\u001b[1;33m   \u001b[0mnulls and duplicates removed based on specified parameters.                                                  \n"
      ]
     },
     "metadata": {},
     "output_type": "display_data"
    }
   ],
   "source": [
    "skillA.show()"
   ]
  },
  {
   "cell_type": "code",
   "execution_count": 4,
   "metadata": {},
   "outputs": [
    {
     "data": {
      "application/vnd.jupyter.widget-view+json": {
       "model_id": "8f80adfafef544098b2f5312b9b605b6",
       "version_major": 2,
       "version_minor": 0
      },
      "text/plain": [
       "Output()"
      ]
     },
     "metadata": {},
     "output_type": "display_data"
    },
    {
     "data": {
      "text/html": [
       "<pre style=\"white-space:pre;overflow-x:auto;line-height:normal;font-family:Menlo,'DejaVu Sans Mono',consolas,'Courier New',monospace\"></pre>\n"
      ],
      "text/plain": []
     },
     "metadata": {},
     "output_type": "display_data"
    },
    {
     "data": {
      "text/html": [
       "<pre style=\"white-space:pre;overflow-x:auto;line-height:normal;font-family:Menlo,'DejaVu Sans Mono',consolas,'Courier New',monospace\"></pre>\n"
      ],
      "text/plain": []
     },
     "metadata": {},
     "output_type": "display_data"
    },
    {
     "data": {
      "text/html": [
       "<pre style=\"white-space:pre;overflow-x:auto;line-height:normal;font-family:Menlo,'DejaVu Sans Mono',consolas,'Courier New',monospace\">Langsmith Run URL:                                                                                                 \n",
       "<a href=\"http://localhost/o/00000000-0000-0000-0000-000000000000/projects/p/856d5024-48fe-4a9c-b1f9-5236f8d3aebd/r/3753f345-ceed-4928-9099-327d12fa31c8?poll=true\" target=\"_blank\"><span style=\"color: #000080; text-decoration-color: #000080; text-decoration: underline\">http://localhost/o/00000000-0000-0000-0000-000000000000/projects/p/856d5024-48fe-4a9c-b1f9-5236f8d3aebd/r/3753f345-</span></a>\n",
       "<a href=\"http://localhost/o/00000000-0000-0000-0000-000000000000/projects/p/856d5024-48fe-4a9c-b1f9-5236f8d3aebd/r/3753f345-ceed-4928-9099-327d12fa31c8?poll=true\" target=\"_blank\"><span style=\"color: #000080; text-decoration-color: #000080; text-decoration: underline\">ceed-4928-9099-327d12fa31c8?poll=true</span></a>                                                                              \n",
       "</pre>\n"
      ],
      "text/plain": [
       "Langsmith Run URL:                                                                                                 \n",
       "\u001b]8;id=323673;http://localhost/o/00000000-0000-0000-0000-000000000000/projects/p/856d5024-48fe-4a9c-b1f9-5236f8d3aebd/r/3753f345-ceed-4928-9099-327d12fa31c8?poll=true\u001b\\\u001b[4;34mhttp://localhost/o/00000000-0000-0000-0000-000000000000/projects/p/856d5024-48fe-4a9c-b1f9-5236f8d3aebd/r/3753f345-\u001b[0m\u001b]8;;\u001b\\\n",
       "\u001b]8;id=323673;http://localhost/o/00000000-0000-0000-0000-000000000000/projects/p/856d5024-48fe-4a9c-b1f9-5236f8d3aebd/r/3753f345-ceed-4928-9099-327d12fa31c8?poll=true\u001b\\\u001b[4;34mceed-4928-9099-327d12fa31c8?poll=true\u001b[0m\u001b]8;;\u001b\\                                                                              \n"
      ]
     },
     "metadata": {},
     "output_type": "display_data"
    }
   ],
   "source": [
    "add_param_skillA = skillA > \"add a parameter that allows the choice of whether to remove duplicate values\""
   ]
  },
  {
   "cell_type": "code",
   "execution_count": 5,
   "metadata": {},
   "outputs": [
    {
     "data": {
      "text/html": [
       "<pre style=\"white-space:pre;overflow-x:auto;line-height:normal;font-family:Menlo,'DejaVu Sans Mono',consolas,'Courier New',monospace\">\n",
       "                                                  <span style=\"font-weight: bold; text-decoration: underline\">Skill Details:</span>                                                   \n",
       "\n",
       "<span style=\"color: #808000; text-decoration-color: #808000; font-weight: bold\"> • </span><span style=\"font-weight: bold\">Name</span>: data_cleaning                                                                                             \n",
       "<span style=\"color: #808000; text-decoration-color: #808000; font-weight: bold\"> • </span><span style=\"font-weight: bold\">Description</span>: Cleans input data by converting string representations of 'null' and 'NaN' to actual null values,  \n",
       "<span style=\"color: #808000; text-decoration-color: #808000; font-weight: bold\">   </span>and then removing null values and duplicates based on specified parameters.                                     \n",
       "<span style=\"color: #808000; text-decoration-color: #808000; font-weight: bold\"> • </span><span style=\"font-weight: bold\">Version</span>: 1.0.0                                                                                                  \n",
       "<span style=\"color: #808000; text-decoration-color: #808000; font-weight: bold\"> • </span><span style=\"font-weight: bold\">Usage</span>:                                                                                                          \n",
       "\n",
       "<span style=\"background-color: #272822\">                                                                                                                   </span>\n",
       "<span style=\"background-color: #272822\"> </span><span style=\"color: #f8f8f2; text-decoration-color: #f8f8f2; background-color: #272822\">data_cleaning(input_data, remove_nulls</span><span style=\"color: #ff4689; text-decoration-color: #ff4689; background-color: #272822\">=</span><span style=\"color: #66d9ef; text-decoration-color: #66d9ef; background-color: #272822\">True</span><span style=\"color: #f8f8f2; text-decoration-color: #f8f8f2; background-color: #272822\">, remove_duplicates</span><span style=\"color: #ff4689; text-decoration-color: #ff4689; background-color: #272822\">=</span><span style=\"color: #66d9ef; text-decoration-color: #66d9ef; background-color: #272822\">True</span><span style=\"color: #f8f8f2; text-decoration-color: #f8f8f2; background-color: #272822\">)</span><span style=\"background-color: #272822\">                                              </span>\n",
       "<span style=\"background-color: #272822\">                                                                                                                   </span>\n",
       "\n",
       "<span style=\"color: #808000; text-decoration-color: #808000; font-weight: bold\"> • </span><span style=\"font-weight: bold\">Parameters</span>:                                                                                                     \n",
       "<span style=\"color: #808000; text-decoration-color: #808000; font-weight: bold\">    • </span><span style=\"font-weight: bold\">data</span> (array): The input dataset that needs cleaning.                                                         \n",
       "<span style=\"color: #808000; text-decoration-color: #808000; font-weight: bold\">       • </span>Required: True                                                                                            \n",
       "<span style=\"color: #808000; text-decoration-color: #808000; font-weight: bold\">    • </span><span style=\"font-weight: bold\">remove_nulls</span> (boolean): Flag to determine if null values should be removed. Defaults to True.                \n",
       "<span style=\"color: #808000; text-decoration-color: #808000; font-weight: bold\">       • </span>Required: True                                                                                            \n",
       "<span style=\"color: #808000; text-decoration-color: #808000; font-weight: bold\">       • </span>Default: True                                                                                             \n",
       "<span style=\"color: #808000; text-decoration-color: #808000; font-weight: bold\">    • </span><span style=\"font-weight: bold\">remove_duplicates</span> (boolean): Flag to determine if duplicates should be removed. Defaults to True.            \n",
       "<span style=\"color: #808000; text-decoration-color: #808000; font-weight: bold\">       • </span>Required: True                                                                                            \n",
       "<span style=\"color: #808000; text-decoration-color: #808000; font-weight: bold\">       • </span>Default: True                                                                                             \n",
       "<span style=\"color: #808000; text-decoration-color: #808000; font-weight: bold\"> • </span><span style=\"font-weight: bold\">Returns</span>:                                                                                                        \n",
       "<span style=\"color: #808000; text-decoration-color: #808000; font-weight: bold\">    • </span><span style=\"font-weight: bold\">cleaned_data</span> (array): The cleaned dataset with string 'null'/'NaN' values converted to actual nulls, and     \n",
       "<span style=\"color: #808000; text-decoration-color: #808000; font-weight: bold\">      </span>nulls and duplicates removed based on specified parameters.                                                  \n",
       "</pre>\n"
      ],
      "text/plain": [
       "\n",
       "                                                  \u001b[1;4mSkill Details:\u001b[0m                                                   \n",
       "\n",
       "\u001b[1;33m • \u001b[0m\u001b[1mName\u001b[0m: data_cleaning                                                                                             \n",
       "\u001b[1;33m • \u001b[0m\u001b[1mDescription\u001b[0m: Cleans input data by converting string representations of 'null' and 'NaN' to actual null values,  \n",
       "\u001b[1;33m   \u001b[0mand then removing null values and duplicates based on specified parameters.                                     \n",
       "\u001b[1;33m • \u001b[0m\u001b[1mVersion\u001b[0m: 1.0.0                                                                                                  \n",
       "\u001b[1;33m • \u001b[0m\u001b[1mUsage\u001b[0m:                                                                                                          \n",
       "\n",
       "\u001b[48;2;39;40;34m                                                                                                                   \u001b[0m\n",
       "\u001b[48;2;39;40;34m \u001b[0m\u001b[38;2;248;248;242;48;2;39;40;34mdata_cleaning\u001b[0m\u001b[38;2;248;248;242;48;2;39;40;34m(\u001b[0m\u001b[38;2;248;248;242;48;2;39;40;34minput_data\u001b[0m\u001b[38;2;248;248;242;48;2;39;40;34m,\u001b[0m\u001b[38;2;248;248;242;48;2;39;40;34m \u001b[0m\u001b[38;2;248;248;242;48;2;39;40;34mremove_nulls\u001b[0m\u001b[38;2;255;70;137;48;2;39;40;34m=\u001b[0m\u001b[38;2;102;217;239;48;2;39;40;34mTrue\u001b[0m\u001b[38;2;248;248;242;48;2;39;40;34m,\u001b[0m\u001b[38;2;248;248;242;48;2;39;40;34m \u001b[0m\u001b[38;2;248;248;242;48;2;39;40;34mremove_duplicates\u001b[0m\u001b[38;2;255;70;137;48;2;39;40;34m=\u001b[0m\u001b[38;2;102;217;239;48;2;39;40;34mTrue\u001b[0m\u001b[38;2;248;248;242;48;2;39;40;34m)\u001b[0m\u001b[48;2;39;40;34m                                             \u001b[0m\u001b[48;2;39;40;34m \u001b[0m\n",
       "\u001b[48;2;39;40;34m                                                                                                                   \u001b[0m\n",
       "\n",
       "\u001b[1;33m • \u001b[0m\u001b[1mParameters\u001b[0m:                                                                                                     \n",
       "\u001b[1;33m   \u001b[0m\u001b[1;33m • \u001b[0m\u001b[1mdata\u001b[0m (array): The input dataset that needs cleaning.                                                         \n",
       "\u001b[1;33m   \u001b[0m\u001b[1;33m   \u001b[0m\u001b[1;33m • \u001b[0mRequired: True                                                                                            \n",
       "\u001b[1;33m   \u001b[0m\u001b[1;33m • \u001b[0m\u001b[1mremove_nulls\u001b[0m (boolean): Flag to determine if null values should be removed. Defaults to True.                \n",
       "\u001b[1;33m   \u001b[0m\u001b[1;33m   \u001b[0m\u001b[1;33m • \u001b[0mRequired: True                                                                                            \n",
       "\u001b[1;33m   \u001b[0m\u001b[1;33m   \u001b[0m\u001b[1;33m • \u001b[0mDefault: True                                                                                             \n",
       "\u001b[1;33m   \u001b[0m\u001b[1;33m • \u001b[0m\u001b[1mremove_duplicates\u001b[0m (boolean): Flag to determine if duplicates should be removed. Defaults to True.            \n",
       "\u001b[1;33m   \u001b[0m\u001b[1;33m   \u001b[0m\u001b[1;33m • \u001b[0mRequired: True                                                                                            \n",
       "\u001b[1;33m   \u001b[0m\u001b[1;33m   \u001b[0m\u001b[1;33m • \u001b[0mDefault: True                                                                                             \n",
       "\u001b[1;33m • \u001b[0m\u001b[1mReturns\u001b[0m:                                                                                                        \n",
       "\u001b[1;33m   \u001b[0m\u001b[1;33m • \u001b[0m\u001b[1mcleaned_data\u001b[0m (array): The cleaned dataset with string 'null'/'NaN' values converted to actual nulls, and     \n",
       "\u001b[1;33m   \u001b[0m\u001b[1;33m   \u001b[0mnulls and duplicates removed based on specified parameters.                                                  \n"
      ]
     },
     "metadata": {},
     "output_type": "display_data"
    }
   ],
   "source": [
    "add_param_skillA.show()"
   ]
  },
  {
   "cell_type": "code",
   "execution_count": 6,
   "metadata": {},
   "outputs": [
    {
     "data": {
      "application/vnd.jupyter.widget-view+json": {
       "model_id": "2465596d3dff439d9fce6d4ab1b46e74",
       "version_major": 2,
       "version_minor": 0
      },
      "text/plain": [
       "Output()"
      ]
     },
     "metadata": {},
     "output_type": "display_data"
    },
    {
     "data": {
      "text/html": [
       "<pre style=\"white-space:pre;overflow-x:auto;line-height:normal;font-family:Menlo,'DejaVu Sans Mono',consolas,'Courier New',monospace\"></pre>\n"
      ],
      "text/plain": []
     },
     "metadata": {},
     "output_type": "display_data"
    },
    {
     "data": {
      "text/html": [
       "<pre style=\"white-space:pre;overflow-x:auto;line-height:normal;font-family:Menlo,'DejaVu Sans Mono',consolas,'Courier New',monospace\"></pre>\n"
      ],
      "text/plain": []
     },
     "metadata": {},
     "output_type": "display_data"
    },
    {
     "data": {
      "text/html": [
       "<pre style=\"white-space:pre;overflow-x:auto;line-height:normal;font-family:Menlo,'DejaVu Sans Mono',consolas,'Courier New',monospace\">Langsmith Run URL:                                                                                                 \n",
       "<a href=\"http://localhost/o/00000000-0000-0000-0000-000000000000/projects/p/856d5024-48fe-4a9c-b1f9-5236f8d3aebd/r/9b5d62a4-109d-4d56-a996-a9cbf928c840?poll=true\" target=\"_blank\"><span style=\"color: #000080; text-decoration-color: #000080; text-decoration: underline\">http://localhost/o/00000000-0000-0000-0000-000000000000/projects/p/856d5024-48fe-4a9c-b1f9-5236f8d3aebd/r/9b5d62a4-</span></a>\n",
       "<a href=\"http://localhost/o/00000000-0000-0000-0000-000000000000/projects/p/856d5024-48fe-4a9c-b1f9-5236f8d3aebd/r/9b5d62a4-109d-4d56-a996-a9cbf928c840?poll=true\" target=\"_blank\"><span style=\"color: #000080; text-decoration-color: #000080; text-decoration: underline\">109d-4d56-a996-a9cbf928c840?poll=true</span></a>                                                                              \n",
       "</pre>\n"
      ],
      "text/plain": [
       "Langsmith Run URL:                                                                                                 \n",
       "\u001b]8;id=180123;http://localhost/o/00000000-0000-0000-0000-000000000000/projects/p/856d5024-48fe-4a9c-b1f9-5236f8d3aebd/r/9b5d62a4-109d-4d56-a996-a9cbf928c840?poll=true\u001b\\\u001b[4;34mhttp://localhost/o/00000000-0000-0000-0000-000000000000/projects/p/856d5024-48fe-4a9c-b1f9-5236f8d3aebd/r/9b5d62a4-\u001b[0m\u001b]8;;\u001b\\\n",
       "\u001b]8;id=180123;http://localhost/o/00000000-0000-0000-0000-000000000000/projects/p/856d5024-48fe-4a9c-b1f9-5236f8d3aebd/r/9b5d62a4-109d-4d56-a996-a9cbf928c840?poll=true\u001b\\\u001b[4;34m109d-4d56-a996-a9cbf928c840?poll=true\u001b[0m\u001b]8;;\u001b\\                                                                              \n"
      ]
     },
     "metadata": {},
     "output_type": "display_data"
    }
   ],
   "source": [
    "add_output_skillA = skillA > \"Not only get cleaned data, but also want to get statistics on deleted null and duplicate values\""
   ]
  },
  {
   "cell_type": "code",
   "execution_count": 7,
   "metadata": {},
   "outputs": [
    {
     "data": {
      "text/html": [
       "<pre style=\"white-space:pre;overflow-x:auto;line-height:normal;font-family:Menlo,'DejaVu Sans Mono',consolas,'Courier New',monospace\">\n",
       "                                                  <span style=\"font-weight: bold; text-decoration: underline\">Skill Details:</span>                                                   \n",
       "\n",
       "<span style=\"color: #808000; text-decoration-color: #808000; font-weight: bold\"> • </span><span style=\"font-weight: bold\">Name</span>: data_cleaning_with_stats                                                                                  \n",
       "<span style=\"color: #808000; text-decoration-color: #808000; font-weight: bold\"> • </span><span style=\"font-weight: bold\">Description</span>: Cleans input data by converting string representations of 'null' and 'NaN' to actual null values,  \n",
       "<span style=\"color: #808000; text-decoration-color: #808000; font-weight: bold\">   </span>and then removing null values and duplicates. Additionally, it provides statistics on the number of null and    \n",
       "<span style=\"color: #808000; text-decoration-color: #808000; font-weight: bold\">   </span>duplicate values removed.                                                                                       \n",
       "<span style=\"color: #808000; text-decoration-color: #808000; font-weight: bold\"> • </span><span style=\"font-weight: bold\">Version</span>: 1.0.0                                                                                                  \n",
       "<span style=\"color: #808000; text-decoration-color: #808000; font-weight: bold\"> • </span><span style=\"font-weight: bold\">Usage</span>:                                                                                                          \n",
       "\n",
       "<span style=\"background-color: #272822\">                                                                                                                   </span>\n",
       "<span style=\"background-color: #272822\"> </span><span style=\"color: #f8f8f2; text-decoration-color: #f8f8f2; background-color: #272822\">cleaned_data, stats </span><span style=\"color: #ff4689; text-decoration-color: #ff4689; background-color: #272822\">=</span><span style=\"color: #f8f8f2; text-decoration-color: #f8f8f2; background-color: #272822\"> data_cleaning_with_stats(input_data, remove_duplicates</span><span style=\"color: #ff4689; text-decoration-color: #ff4689; background-color: #272822\">=</span><span style=\"color: #66d9ef; text-decoration-color: #66d9ef; background-color: #272822\">True</span><span style=\"color: #f8f8f2; text-decoration-color: #f8f8f2; background-color: #272822\">)</span><span style=\"background-color: #272822\">                                </span>\n",
       "<span style=\"background-color: #272822\">                                                                                                                   </span>\n",
       "\n",
       "<span style=\"color: #808000; text-decoration-color: #808000; font-weight: bold\"> • </span><span style=\"font-weight: bold\">Parameters</span>:                                                                                                     \n",
       "<span style=\"color: #808000; text-decoration-color: #808000; font-weight: bold\">    • </span><span style=\"font-weight: bold\">data</span> (array): The input dataset that needs cleaning.                                                         \n",
       "<span style=\"color: #808000; text-decoration-color: #808000; font-weight: bold\">       • </span>Required: True                                                                                            \n",
       "<span style=\"color: #808000; text-decoration-color: #808000; font-weight: bold\">    • </span><span style=\"font-weight: bold\">remove_duplicates</span> (boolean): Flag to determine if duplicates should be removed. Defaults to True.            \n",
       "<span style=\"color: #808000; text-decoration-color: #808000; font-weight: bold\">       • </span>Required: True                                                                                            \n",
       "<span style=\"color: #808000; text-decoration-color: #808000; font-weight: bold\">       • </span>Default: True                                                                                             \n",
       "<span style=\"color: #808000; text-decoration-color: #808000; font-weight: bold\"> • </span><span style=\"font-weight: bold\">Returns</span>:                                                                                                        \n",
       "<span style=\"color: #808000; text-decoration-color: #808000; font-weight: bold\">    • </span><span style=\"font-weight: bold\">cleaned_data</span> (array): The cleaned dataset with string 'null'/'NaN' values converted to actual nulls, and     \n",
       "<span style=\"color: #808000; text-decoration-color: #808000; font-weight: bold\">      </span>nulls and duplicates removed based on specified parameters.                                                  \n",
       "<span style=\"color: #808000; text-decoration-color: #808000; font-weight: bold\">    • </span><span style=\"font-weight: bold\">stats</span> (dictionary): A dictionary containing the count of null and duplicate values removed from the dataset. \n",
       "</pre>\n"
      ],
      "text/plain": [
       "\n",
       "                                                  \u001b[1;4mSkill Details:\u001b[0m                                                   \n",
       "\n",
       "\u001b[1;33m • \u001b[0m\u001b[1mName\u001b[0m: data_cleaning_with_stats                                                                                  \n",
       "\u001b[1;33m • \u001b[0m\u001b[1mDescription\u001b[0m: Cleans input data by converting string representations of 'null' and 'NaN' to actual null values,  \n",
       "\u001b[1;33m   \u001b[0mand then removing null values and duplicates. Additionally, it provides statistics on the number of null and    \n",
       "\u001b[1;33m   \u001b[0mduplicate values removed.                                                                                       \n",
       "\u001b[1;33m • \u001b[0m\u001b[1mVersion\u001b[0m: 1.0.0                                                                                                  \n",
       "\u001b[1;33m • \u001b[0m\u001b[1mUsage\u001b[0m:                                                                                                          \n",
       "\n",
       "\u001b[48;2;39;40;34m                                                                                                                   \u001b[0m\n",
       "\u001b[48;2;39;40;34m \u001b[0m\u001b[38;2;248;248;242;48;2;39;40;34mcleaned_data\u001b[0m\u001b[38;2;248;248;242;48;2;39;40;34m,\u001b[0m\u001b[38;2;248;248;242;48;2;39;40;34m \u001b[0m\u001b[38;2;248;248;242;48;2;39;40;34mstats\u001b[0m\u001b[38;2;248;248;242;48;2;39;40;34m \u001b[0m\u001b[38;2;255;70;137;48;2;39;40;34m=\u001b[0m\u001b[38;2;248;248;242;48;2;39;40;34m \u001b[0m\u001b[38;2;248;248;242;48;2;39;40;34mdata_cleaning_with_stats\u001b[0m\u001b[38;2;248;248;242;48;2;39;40;34m(\u001b[0m\u001b[38;2;248;248;242;48;2;39;40;34minput_data\u001b[0m\u001b[38;2;248;248;242;48;2;39;40;34m,\u001b[0m\u001b[38;2;248;248;242;48;2;39;40;34m \u001b[0m\u001b[38;2;248;248;242;48;2;39;40;34mremove_duplicates\u001b[0m\u001b[38;2;255;70;137;48;2;39;40;34m=\u001b[0m\u001b[38;2;102;217;239;48;2;39;40;34mTrue\u001b[0m\u001b[38;2;248;248;242;48;2;39;40;34m)\u001b[0m\u001b[48;2;39;40;34m                               \u001b[0m\u001b[48;2;39;40;34m \u001b[0m\n",
       "\u001b[48;2;39;40;34m                                                                                                                   \u001b[0m\n",
       "\n",
       "\u001b[1;33m • \u001b[0m\u001b[1mParameters\u001b[0m:                                                                                                     \n",
       "\u001b[1;33m   \u001b[0m\u001b[1;33m • \u001b[0m\u001b[1mdata\u001b[0m (array): The input dataset that needs cleaning.                                                         \n",
       "\u001b[1;33m   \u001b[0m\u001b[1;33m   \u001b[0m\u001b[1;33m • \u001b[0mRequired: True                                                                                            \n",
       "\u001b[1;33m   \u001b[0m\u001b[1;33m • \u001b[0m\u001b[1mremove_duplicates\u001b[0m (boolean): Flag to determine if duplicates should be removed. Defaults to True.            \n",
       "\u001b[1;33m   \u001b[0m\u001b[1;33m   \u001b[0m\u001b[1;33m • \u001b[0mRequired: True                                                                                            \n",
       "\u001b[1;33m   \u001b[0m\u001b[1;33m   \u001b[0m\u001b[1;33m • \u001b[0mDefault: True                                                                                             \n",
       "\u001b[1;33m • \u001b[0m\u001b[1mReturns\u001b[0m:                                                                                                        \n",
       "\u001b[1;33m   \u001b[0m\u001b[1;33m • \u001b[0m\u001b[1mcleaned_data\u001b[0m (array): The cleaned dataset with string 'null'/'NaN' values converted to actual nulls, and     \n",
       "\u001b[1;33m   \u001b[0m\u001b[1;33m   \u001b[0mnulls and duplicates removed based on specified parameters.                                                  \n",
       "\u001b[1;33m   \u001b[0m\u001b[1;33m • \u001b[0m\u001b[1mstats\u001b[0m (dictionary): A dictionary containing the count of null and duplicate values removed from the dataset. \n"
      ]
     },
     "metadata": {},
     "output_type": "display_data"
    }
   ],
   "source": [
    "add_output_skillA.show()"
   ]
  },
  {
   "cell_type": "code",
   "execution_count": 8,
   "metadata": {},
   "outputs": [
    {
     "data": {
      "application/vnd.jupyter.widget-view+json": {
       "model_id": "787dc04257b046fe96b96b80d630360f",
       "version_major": 2,
       "version_minor": 0
      },
      "text/plain": [
       "Output()"
      ]
     },
     "metadata": {},
     "output_type": "display_data"
    },
    {
     "data": {
      "text/html": [
       "<pre style=\"white-space:pre;overflow-x:auto;line-height:normal;font-family:Menlo,'DejaVu Sans Mono',consolas,'Courier New',monospace\"></pre>\n"
      ],
      "text/plain": []
     },
     "metadata": {},
     "output_type": "display_data"
    },
    {
     "data": {
      "text/html": [
       "<pre style=\"white-space:pre;overflow-x:auto;line-height:normal;font-family:Menlo,'DejaVu Sans Mono',consolas,'Courier New',monospace\"></pre>\n"
      ],
      "text/plain": []
     },
     "metadata": {},
     "output_type": "display_data"
    },
    {
     "data": {
      "text/html": [
       "<pre style=\"white-space:pre;overflow-x:auto;line-height:normal;font-family:Menlo,'DejaVu Sans Mono',consolas,'Courier New',monospace\">Langsmith Run URL:                                                                                                 \n",
       "<a href=\"http://localhost/o/00000000-0000-0000-0000-000000000000/projects/p/856d5024-48fe-4a9c-b1f9-5236f8d3aebd/r/a3c50ed0-21e1-4d5d-8324-9a247f29c2f7?poll=true\" target=\"_blank\"><span style=\"color: #000080; text-decoration-color: #000080; text-decoration: underline\">http://localhost/o/00000000-0000-0000-0000-000000000000/projects/p/856d5024-48fe-4a9c-b1f9-5236f8d3aebd/r/a3c50ed0-</span></a>\n",
       "<a href=\"http://localhost/o/00000000-0000-0000-0000-000000000000/projects/p/856d5024-48fe-4a9c-b1f9-5236f8d3aebd/r/a3c50ed0-21e1-4d5d-8324-9a247f29c2f7?poll=true\" target=\"_blank\"><span style=\"color: #000080; text-decoration-color: #000080; text-decoration: underline\">21e1-4d5d-8324-9a247f29c2f7?poll=true</span></a>                                                                              \n",
       "</pre>\n"
      ],
      "text/plain": [
       "Langsmith Run URL:                                                                                                 \n",
       "\u001b]8;id=438953;http://localhost/o/00000000-0000-0000-0000-000000000000/projects/p/856d5024-48fe-4a9c-b1f9-5236f8d3aebd/r/a3c50ed0-21e1-4d5d-8324-9a247f29c2f7?poll=true\u001b\\\u001b[4;34mhttp://localhost/o/00000000-0000-0000-0000-000000000000/projects/p/856d5024-48fe-4a9c-b1f9-5236f8d3aebd/r/a3c50ed0-\u001b[0m\u001b]8;;\u001b\\\n",
       "\u001b]8;id=438953;http://localhost/o/00000000-0000-0000-0000-000000000000/projects/p/856d5024-48fe-4a9c-b1f9-5236f8d3aebd/r/a3c50ed0-21e1-4d5d-8324-9a247f29c2f7?poll=true\u001b\\\u001b[4;34m21e1-4d5d-8324-9a247f29c2f7?poll=true\u001b[0m\u001b]8;;\u001b\\                                                                              \n"
      ]
     },
     "metadata": {},
     "output_type": "display_data"
    }
   ],
   "source": [
    "change_logic_skillA = skillA > 'Convert all \"null\" or \"NaN\" of string type to true null before removing nulls'\n"
   ]
  },
  {
   "cell_type": "code",
   "execution_count": 9,
   "metadata": {},
   "outputs": [
    {
     "data": {
      "text/html": [
       "<pre style=\"white-space:pre;overflow-x:auto;line-height:normal;font-family:Menlo,'DejaVu Sans Mono',consolas,'Courier New',monospace\">\n",
       "                                                  <span style=\"font-weight: bold; text-decoration: underline\">Skill Details:</span>                                                   \n",
       "\n",
       "<span style=\"color: #808000; text-decoration-color: #808000; font-weight: bold\"> • </span><span style=\"font-weight: bold\">Name</span>: data_cleaning                                                                                             \n",
       "<span style=\"color: #808000; text-decoration-color: #808000; font-weight: bold\"> • </span><span style=\"font-weight: bold\">Description</span>: Cleans input data by converting string representations of 'null' and 'NaN' to actual null values,  \n",
       "<span style=\"color: #808000; text-decoration-color: #808000; font-weight: bold\">   </span>and then removing null values and duplicates.                                                                   \n",
       "<span style=\"color: #808000; text-decoration-color: #808000; font-weight: bold\"> • </span><span style=\"font-weight: bold\">Version</span>: 1.0.0                                                                                                  \n",
       "<span style=\"color: #808000; text-decoration-color: #808000; font-weight: bold\"> • </span><span style=\"font-weight: bold\">Usage</span>:                                                                                                          \n",
       "\n",
       "<span style=\"background-color: #272822\">                                                                                                                   </span>\n",
       "<span style=\"background-color: #272822\"> </span><span style=\"color: #f8f8f2; text-decoration-color: #f8f8f2; background-color: #272822\">data_cleaning(input_data, remove_duplicates</span><span style=\"color: #ff4689; text-decoration-color: #ff4689; background-color: #272822\">=</span><span style=\"color: #66d9ef; text-decoration-color: #66d9ef; background-color: #272822\">True</span><span style=\"color: #f8f8f2; text-decoration-color: #f8f8f2; background-color: #272822\">)</span><span style=\"background-color: #272822\">                                                                 </span>\n",
       "<span style=\"background-color: #272822\">                                                                                                                   </span>\n",
       "\n",
       "<span style=\"color: #808000; text-decoration-color: #808000; font-weight: bold\"> • </span><span style=\"font-weight: bold\">Parameters</span>:                                                                                                     \n",
       "<span style=\"color: #808000; text-decoration-color: #808000; font-weight: bold\">    • </span><span style=\"font-weight: bold\">data</span> (array): The input dataset that needs cleaning.                                                         \n",
       "<span style=\"color: #808000; text-decoration-color: #808000; font-weight: bold\">       • </span>Required: True                                                                                            \n",
       "<span style=\"color: #808000; text-decoration-color: #808000; font-weight: bold\">    • </span><span style=\"font-weight: bold\">remove_duplicates</span> (boolean): Flag to determine if duplicates should be removed. Defaults to True.            \n",
       "<span style=\"color: #808000; text-decoration-color: #808000; font-weight: bold\">       • </span>Required: True                                                                                            \n",
       "<span style=\"color: #808000; text-decoration-color: #808000; font-weight: bold\">       • </span>Default: True                                                                                             \n",
       "<span style=\"color: #808000; text-decoration-color: #808000; font-weight: bold\"> • </span><span style=\"font-weight: bold\">Returns</span>:                                                                                                        \n",
       "<span style=\"color: #808000; text-decoration-color: #808000; font-weight: bold\">    • </span><span style=\"font-weight: bold\">cleaned_data</span> (array): The cleaned dataset with string 'null'/'NaN' values converted to actual nulls, and     \n",
       "<span style=\"color: #808000; text-decoration-color: #808000; font-weight: bold\">      </span>nulls and duplicates removed based on specified parameters.                                                  \n",
       "</pre>\n"
      ],
      "text/plain": [
       "\n",
       "                                                  \u001b[1;4mSkill Details:\u001b[0m                                                   \n",
       "\n",
       "\u001b[1;33m • \u001b[0m\u001b[1mName\u001b[0m: data_cleaning                                                                                             \n",
       "\u001b[1;33m • \u001b[0m\u001b[1mDescription\u001b[0m: Cleans input data by converting string representations of 'null' and 'NaN' to actual null values,  \n",
       "\u001b[1;33m   \u001b[0mand then removing null values and duplicates.                                                                   \n",
       "\u001b[1;33m • \u001b[0m\u001b[1mVersion\u001b[0m: 1.0.0                                                                                                  \n",
       "\u001b[1;33m • \u001b[0m\u001b[1mUsage\u001b[0m:                                                                                                          \n",
       "\n",
       "\u001b[48;2;39;40;34m                                                                                                                   \u001b[0m\n",
       "\u001b[48;2;39;40;34m \u001b[0m\u001b[38;2;248;248;242;48;2;39;40;34mdata_cleaning\u001b[0m\u001b[38;2;248;248;242;48;2;39;40;34m(\u001b[0m\u001b[38;2;248;248;242;48;2;39;40;34minput_data\u001b[0m\u001b[38;2;248;248;242;48;2;39;40;34m,\u001b[0m\u001b[38;2;248;248;242;48;2;39;40;34m \u001b[0m\u001b[38;2;248;248;242;48;2;39;40;34mremove_duplicates\u001b[0m\u001b[38;2;255;70;137;48;2;39;40;34m=\u001b[0m\u001b[38;2;102;217;239;48;2;39;40;34mTrue\u001b[0m\u001b[38;2;248;248;242;48;2;39;40;34m)\u001b[0m\u001b[48;2;39;40;34m                                                                \u001b[0m\u001b[48;2;39;40;34m \u001b[0m\n",
       "\u001b[48;2;39;40;34m                                                                                                                   \u001b[0m\n",
       "\n",
       "\u001b[1;33m • \u001b[0m\u001b[1mParameters\u001b[0m:                                                                                                     \n",
       "\u001b[1;33m   \u001b[0m\u001b[1;33m • \u001b[0m\u001b[1mdata\u001b[0m (array): The input dataset that needs cleaning.                                                         \n",
       "\u001b[1;33m   \u001b[0m\u001b[1;33m   \u001b[0m\u001b[1;33m • \u001b[0mRequired: True                                                                                            \n",
       "\u001b[1;33m   \u001b[0m\u001b[1;33m • \u001b[0m\u001b[1mremove_duplicates\u001b[0m (boolean): Flag to determine if duplicates should be removed. Defaults to True.            \n",
       "\u001b[1;33m   \u001b[0m\u001b[1;33m   \u001b[0m\u001b[1;33m • \u001b[0mRequired: True                                                                                            \n",
       "\u001b[1;33m   \u001b[0m\u001b[1;33m   \u001b[0m\u001b[1;33m • \u001b[0mDefault: True                                                                                             \n",
       "\u001b[1;33m • \u001b[0m\u001b[1mReturns\u001b[0m:                                                                                                        \n",
       "\u001b[1;33m   \u001b[0m\u001b[1;33m • \u001b[0m\u001b[1mcleaned_data\u001b[0m (array): The cleaned dataset with string 'null'/'NaN' values converted to actual nulls, and     \n",
       "\u001b[1;33m   \u001b[0m\u001b[1;33m   \u001b[0mnulls and duplicates removed based on specified parameters.                                                  \n"
      ]
     },
     "metadata": {},
     "output_type": "display_data"
    }
   ],
   "source": [
    "change_logic_skillA.show()"
   ]
  },
  {
   "attachments": {},
   "cell_type": "markdown",
   "metadata": {},
   "source": [
    "#### 2 Refactor Case 2: combine skills into one\n",
    "\n",
    "- chain skills\n",
    "- internal logic combine\n",
    "- parallel combine"
   ]
  },
  {
   "cell_type": "code",
   "execution_count": 10,
   "metadata": {},
   "outputs": [],
   "source": [
    "def create_combine_testcase():\n",
    "    skillA_json = {\n",
    "        \"skill_name\": \"data_cleaning\",\n",
    "        \"skill_description\": \"This skill is responsible for cleaning the input data by removing empty values. It provides a simple way to preprocess data and make it ready for further analysis or visualization.\",\n",
    "        \"skill_tags\": [\"cleaning\", \"preprocessing\", \"data\"],\n",
    "        \"skill_usage_example\": \"data_cleaning(input_data)\",\n",
    "        \"skill_program_language\": \"python\",\n",
    "        \"skill_code\": \"\"\"\n",
    "def data_cleaning(data):\n",
    "    \\\"\\\"\\\"Clean the data by removing empty values.\\\"\\\"\\\"\n",
    "    return [item for item in data if item is not None]\n",
    "\"\"\",\n",
    "        \"skill_parameters\": [\n",
    "            {\n",
    "                \"param_name\": \"data\",\n",
    "                \"param_type\": \"array\",\n",
    "                \"param_description\": \"The input data that needs cleaning. It should be a list of values.\",\n",
    "                \"param_required\": True\n",
    "            }\n",
    "        ],\n",
    "        \"skill_return\": {\n",
    "            \"param_name\": \"cleaned_data\",\n",
    "            \"param_type\": \"array\",\n",
    "            \"param_description\": \"The cleaned data after removing empty values.\"\n",
    "        },\n",
    "        \"skill_dependencies\": None\n",
    "    }\n",
    "    skillA = CodeSkill(**skillA_json)\n",
    "    skillA.skill_metadata = BaseSkillMetadata()\n",
    "\n",
    "    skillB_json = {\n",
    "        \"skill_name\": \"data_visualization\",\n",
    "        \"skill_description\": \"This skill is responsible for visualizing the input data by generating a bar chart. It helps in understanding the data distribution and patterns.\",\n",
    "        \"skill_tags\": [\"visualization\", \"chart\", \"data\"],\n",
    "        \"skill_usage_example\": \"data_visualization(input_data)\",\n",
    "        \"skill_program_language\": \"python\",\n",
    "        \"skill_code\": \"\"\"\n",
    "        import matplotlib.pyplot as plt\n",
    "\n",
    "        def data_visualization(data):\n",
    "            \\\"\\\"\\\"Visualize the data using a bar chart.\\\"\\\"\\\"\n",
    "            plt.bar(range(len(data)), data)\n",
    "            plt.show()\n",
    "        \"\"\",\n",
    "        \"skill_parameters\": [\n",
    "            {\n",
    "                \"param_name\": \"data\",\n",
    "                \"param_type\": \"array\",\n",
    "                \"param_description\": \"The input data that needs to be visualized. It should be a list of values.\",\n",
    "                \"param_required\": True\n",
    "            }\n",
    "        ],\n",
    "        \"skill_return\": None,\n",
    "        \"skill_dependencies\": [\n",
    "            {\n",
    "                \"dependency_name\": \"matplotlib\",\n",
    "                \"dependency_version\": \"3.4.3\",\n",
    "                \"dependency_type\": \"package\"\n",
    "            }\n",
    "        ]\n",
    "    }\n",
    "    skillB = CodeSkill(**skillB_json)\n",
    "    skillB.skill_metadata = BaseSkillMetadata()\n",
    "\n",
    "    skillC_json = {\n",
    "        \"skill_name\": \"data_statistics\",\n",
    "        \"skill_description\": \"This skill calculates the average value of the input data. It provides a basic statistical overview of the dataset.\",\n",
    "        \"skill_tags\": [\"statistics\", \"average\", \"data\"],\n",
    "        \"skill_usage_example\": \"data_statistics(input_data)\",\n",
    "        \"skill_program_language\": \"python\",\n",
    "        \"skill_code\": \"\"\"\n",
    "        def data_statistics(data):\n",
    "            \\\"\\\"\\\"Calculate the average of the data.\\\"\\\"\\\"\n",
    "            return sum(data) / len(data)\n",
    "        \"\"\",\n",
    "        \"skill_parameters\": [\n",
    "            {\n",
    "                \"param_name\": \"data\",\n",
    "                \"param_type\": \"array\",\n",
    "                \"param_description\": \"The input data for which the average needs to be calculated. It should be a list of numerical values.\",\n",
    "                \"param_required\": True\n",
    "            }\n",
    "        ],\n",
    "        \"skill_return\": {\n",
    "            \"param_name\": \"average\",\n",
    "            \"param_type\": \"float\",\n",
    "            \"param_description\": \"The average value of the input data.\"\n",
    "        },\n",
    "        \"skill_dependencies\": None\n",
    "    }\n",
    "    skillC = CodeSkill(**skillC_json)\n",
    "    skillC.skill_metadata = BaseSkillMetadata()\n",
    "    return skillA, skillB, skillC"
   ]
  },
  {
   "cell_type": "code",
   "execution_count": 11,
   "metadata": {},
   "outputs": [],
   "source": [
    "skillA, skillB, skillC = create_combine_testcase()"
   ]
  },
  {
   "cell_type": "code",
   "execution_count": 12,
   "metadata": {},
   "outputs": [
    {
     "data": {
      "text/html": [
       "<pre style=\"white-space:pre;overflow-x:auto;line-height:normal;font-family:Menlo,'DejaVu Sans Mono',consolas,'Courier New',monospace\">\n",
       "                                                  <span style=\"font-weight: bold; text-decoration: underline\">Skill Details:</span>                                                   \n",
       "\n",
       "<span style=\"color: #808000; text-decoration-color: #808000; font-weight: bold\"> • </span><span style=\"font-weight: bold\">Name</span>: data_cleaning                                                                                             \n",
       "<span style=\"color: #808000; text-decoration-color: #808000; font-weight: bold\"> • </span><span style=\"font-weight: bold\">Description</span>: This skill is responsible for cleaning the input data by removing empty values. It provides a      \n",
       "<span style=\"color: #808000; text-decoration-color: #808000; font-weight: bold\">   </span>simple way to preprocess data and make it ready for further analysis or visualization.                          \n",
       "<span style=\"color: #808000; text-decoration-color: #808000; font-weight: bold\"> • </span><span style=\"font-weight: bold\">Version</span>: 1.0.0                                                                                                  \n",
       "<span style=\"color: #808000; text-decoration-color: #808000; font-weight: bold\"> • </span><span style=\"font-weight: bold\">Usage</span>:                                                                                                          \n",
       "\n",
       "<span style=\"background-color: #272822\">                                                                                                                   </span>\n",
       "<span style=\"background-color: #272822\"> </span><span style=\"color: #f8f8f2; text-decoration-color: #f8f8f2; background-color: #272822\">data_cleaning(input_data)</span><span style=\"background-color: #272822\">                                                                                         </span>\n",
       "<span style=\"background-color: #272822\">                                                                                                                   </span>\n",
       "\n",
       "<span style=\"color: #808000; text-decoration-color: #808000; font-weight: bold\"> • </span><span style=\"font-weight: bold\">Parameters</span>:                                                                                                     \n",
       "<span style=\"color: #808000; text-decoration-color: #808000; font-weight: bold\">    • </span><span style=\"font-weight: bold\">data</span> (array): The input data that needs cleaning. It should be a list of values.                             \n",
       "<span style=\"color: #808000; text-decoration-color: #808000; font-weight: bold\">       • </span>Required: True                                                                                            \n",
       "<span style=\"color: #808000; text-decoration-color: #808000; font-weight: bold\"> • </span><span style=\"font-weight: bold\">Returns</span>:                                                                                                        \n",
       "<span style=\"color: #808000; text-decoration-color: #808000; font-weight: bold\">    • </span><span style=\"font-weight: bold\">cleaned_data</span> (array): The cleaned data after removing empty values.                                          \n",
       "</pre>\n"
      ],
      "text/plain": [
       "\n",
       "                                                  \u001b[1;4mSkill Details:\u001b[0m                                                   \n",
       "\n",
       "\u001b[1;33m • \u001b[0m\u001b[1mName\u001b[0m: data_cleaning                                                                                             \n",
       "\u001b[1;33m • \u001b[0m\u001b[1mDescription\u001b[0m: This skill is responsible for cleaning the input data by removing empty values. It provides a      \n",
       "\u001b[1;33m   \u001b[0msimple way to preprocess data and make it ready for further analysis or visualization.                          \n",
       "\u001b[1;33m • \u001b[0m\u001b[1mVersion\u001b[0m: 1.0.0                                                                                                  \n",
       "\u001b[1;33m • \u001b[0m\u001b[1mUsage\u001b[0m:                                                                                                          \n",
       "\n",
       "\u001b[48;2;39;40;34m                                                                                                                   \u001b[0m\n",
       "\u001b[48;2;39;40;34m \u001b[0m\u001b[38;2;248;248;242;48;2;39;40;34mdata_cleaning\u001b[0m\u001b[38;2;248;248;242;48;2;39;40;34m(\u001b[0m\u001b[38;2;248;248;242;48;2;39;40;34minput_data\u001b[0m\u001b[38;2;248;248;242;48;2;39;40;34m)\u001b[0m\u001b[48;2;39;40;34m                                                                                        \u001b[0m\u001b[48;2;39;40;34m \u001b[0m\n",
       "\u001b[48;2;39;40;34m                                                                                                                   \u001b[0m\n",
       "\n",
       "\u001b[1;33m • \u001b[0m\u001b[1mParameters\u001b[0m:                                                                                                     \n",
       "\u001b[1;33m   \u001b[0m\u001b[1;33m • \u001b[0m\u001b[1mdata\u001b[0m (array): The input data that needs cleaning. It should be a list of values.                             \n",
       "\u001b[1;33m   \u001b[0m\u001b[1;33m   \u001b[0m\u001b[1;33m • \u001b[0mRequired: True                                                                                            \n",
       "\u001b[1;33m • \u001b[0m\u001b[1mReturns\u001b[0m:                                                                                                        \n",
       "\u001b[1;33m   \u001b[0m\u001b[1;33m • \u001b[0m\u001b[1mcleaned_data\u001b[0m (array): The cleaned data after removing empty values.                                          \n"
      ]
     },
     "metadata": {},
     "output_type": "display_data"
    }
   ],
   "source": [
    "skillA.show()"
   ]
  },
  {
   "cell_type": "code",
   "execution_count": 13,
   "metadata": {},
   "outputs": [
    {
     "data": {
      "text/html": [
       "<pre style=\"white-space:pre;overflow-x:auto;line-height:normal;font-family:Menlo,'DejaVu Sans Mono',consolas,'Courier New',monospace\">\n",
       "                                                  <span style=\"font-weight: bold; text-decoration: underline\">Skill Details:</span>                                                   \n",
       "\n",
       "<span style=\"color: #808000; text-decoration-color: #808000; font-weight: bold\"> • </span><span style=\"font-weight: bold\">Name</span>: data_visualization                                                                                        \n",
       "<span style=\"color: #808000; text-decoration-color: #808000; font-weight: bold\"> • </span><span style=\"font-weight: bold\">Description</span>: This skill is responsible for visualizing the input data by generating a bar chart. It helps in    \n",
       "<span style=\"color: #808000; text-decoration-color: #808000; font-weight: bold\">   </span>understanding the data distribution and patterns.                                                               \n",
       "<span style=\"color: #808000; text-decoration-color: #808000; font-weight: bold\"> • </span><span style=\"font-weight: bold\">Version</span>: 1.0.0                                                                                                  \n",
       "<span style=\"color: #808000; text-decoration-color: #808000; font-weight: bold\"> • </span><span style=\"font-weight: bold\">Usage</span>:                                                                                                          \n",
       "\n",
       "<span style=\"background-color: #272822\">                                                                                                                   </span>\n",
       "<span style=\"background-color: #272822\"> </span><span style=\"color: #f8f8f2; text-decoration-color: #f8f8f2; background-color: #272822\">data_visualization(input_data)</span><span style=\"background-color: #272822\">                                                                                    </span>\n",
       "<span style=\"background-color: #272822\">                                                                                                                   </span>\n",
       "\n",
       "<span style=\"color: #808000; text-decoration-color: #808000; font-weight: bold\"> • </span><span style=\"font-weight: bold\">Parameters</span>:                                                                                                     \n",
       "<span style=\"color: #808000; text-decoration-color: #808000; font-weight: bold\">    • </span><span style=\"font-weight: bold\">data</span> (array): The input data that needs to be visualized. It should be a list of values.                     \n",
       "<span style=\"color: #808000; text-decoration-color: #808000; font-weight: bold\">       • </span>Required: True                                                                                            \n",
       "<span style=\"color: #808000; text-decoration-color: #808000; font-weight: bold\"> • </span><span style=\"font-weight: bold\">Returns</span>:                                                                                                        \n",
       "</pre>\n"
      ],
      "text/plain": [
       "\n",
       "                                                  \u001b[1;4mSkill Details:\u001b[0m                                                   \n",
       "\n",
       "\u001b[1;33m • \u001b[0m\u001b[1mName\u001b[0m: data_visualization                                                                                        \n",
       "\u001b[1;33m • \u001b[0m\u001b[1mDescription\u001b[0m: This skill is responsible for visualizing the input data by generating a bar chart. It helps in    \n",
       "\u001b[1;33m   \u001b[0munderstanding the data distribution and patterns.                                                               \n",
       "\u001b[1;33m • \u001b[0m\u001b[1mVersion\u001b[0m: 1.0.0                                                                                                  \n",
       "\u001b[1;33m • \u001b[0m\u001b[1mUsage\u001b[0m:                                                                                                          \n",
       "\n",
       "\u001b[48;2;39;40;34m                                                                                                                   \u001b[0m\n",
       "\u001b[48;2;39;40;34m \u001b[0m\u001b[38;2;248;248;242;48;2;39;40;34mdata_visualization\u001b[0m\u001b[38;2;248;248;242;48;2;39;40;34m(\u001b[0m\u001b[38;2;248;248;242;48;2;39;40;34minput_data\u001b[0m\u001b[38;2;248;248;242;48;2;39;40;34m)\u001b[0m\u001b[48;2;39;40;34m                                                                                   \u001b[0m\u001b[48;2;39;40;34m \u001b[0m\n",
       "\u001b[48;2;39;40;34m                                                                                                                   \u001b[0m\n",
       "\n",
       "\u001b[1;33m • \u001b[0m\u001b[1mParameters\u001b[0m:                                                                                                     \n",
       "\u001b[1;33m   \u001b[0m\u001b[1;33m • \u001b[0m\u001b[1mdata\u001b[0m (array): The input data that needs to be visualized. It should be a list of values.                     \n",
       "\u001b[1;33m   \u001b[0m\u001b[1;33m   \u001b[0m\u001b[1;33m • \u001b[0mRequired: True                                                                                            \n",
       "\u001b[1;33m • \u001b[0m\u001b[1mReturns\u001b[0m:                                                                                                        \n"
      ]
     },
     "metadata": {},
     "output_type": "display_data"
    }
   ],
   "source": [
    "skillB.show()"
   ]
  },
  {
   "cell_type": "code",
   "execution_count": 14,
   "metadata": {},
   "outputs": [
    {
     "data": {
      "text/html": [
       "<pre style=\"white-space:pre;overflow-x:auto;line-height:normal;font-family:Menlo,'DejaVu Sans Mono',consolas,'Courier New',monospace\">\n",
       "                                                  <span style=\"font-weight: bold; text-decoration: underline\">Skill Details:</span>                                                   \n",
       "\n",
       "<span style=\"color: #808000; text-decoration-color: #808000; font-weight: bold\"> • </span><span style=\"font-weight: bold\">Name</span>: data_statistics                                                                                           \n",
       "<span style=\"color: #808000; text-decoration-color: #808000; font-weight: bold\"> • </span><span style=\"font-weight: bold\">Description</span>: This skill calculates the average value of the input data. It provides a basic statistical overview\n",
       "<span style=\"color: #808000; text-decoration-color: #808000; font-weight: bold\">   </span>of the dataset.                                                                                                 \n",
       "<span style=\"color: #808000; text-decoration-color: #808000; font-weight: bold\"> • </span><span style=\"font-weight: bold\">Version</span>: 1.0.0                                                                                                  \n",
       "<span style=\"color: #808000; text-decoration-color: #808000; font-weight: bold\"> • </span><span style=\"font-weight: bold\">Usage</span>:                                                                                                          \n",
       "\n",
       "<span style=\"background-color: #272822\">                                                                                                                   </span>\n",
       "<span style=\"background-color: #272822\"> </span><span style=\"color: #f8f8f2; text-decoration-color: #f8f8f2; background-color: #272822\">data_statistics(input_data)</span><span style=\"background-color: #272822\">                                                                                       </span>\n",
       "<span style=\"background-color: #272822\">                                                                                                                   </span>\n",
       "\n",
       "<span style=\"color: #808000; text-decoration-color: #808000; font-weight: bold\"> • </span><span style=\"font-weight: bold\">Parameters</span>:                                                                                                     \n",
       "<span style=\"color: #808000; text-decoration-color: #808000; font-weight: bold\">    • </span><span style=\"font-weight: bold\">data</span> (array): The input data for which the average needs to be calculated. It should be a list of numerical  \n",
       "<span style=\"color: #808000; text-decoration-color: #808000; font-weight: bold\">      </span>values.                                                                                                      \n",
       "<span style=\"color: #808000; text-decoration-color: #808000; font-weight: bold\">       • </span>Required: True                                                                                            \n",
       "<span style=\"color: #808000; text-decoration-color: #808000; font-weight: bold\"> • </span><span style=\"font-weight: bold\">Returns</span>:                                                                                                        \n",
       "<span style=\"color: #808000; text-decoration-color: #808000; font-weight: bold\">    • </span><span style=\"font-weight: bold\">average</span> (float): The average value of the input data.                                                        \n",
       "</pre>\n"
      ],
      "text/plain": [
       "\n",
       "                                                  \u001b[1;4mSkill Details:\u001b[0m                                                   \n",
       "\n",
       "\u001b[1;33m • \u001b[0m\u001b[1mName\u001b[0m: data_statistics                                                                                           \n",
       "\u001b[1;33m • \u001b[0m\u001b[1mDescription\u001b[0m: This skill calculates the average value of the input data. It provides a basic statistical overview\n",
       "\u001b[1;33m   \u001b[0mof the dataset.                                                                                                 \n",
       "\u001b[1;33m • \u001b[0m\u001b[1mVersion\u001b[0m: 1.0.0                                                                                                  \n",
       "\u001b[1;33m • \u001b[0m\u001b[1mUsage\u001b[0m:                                                                                                          \n",
       "\n",
       "\u001b[48;2;39;40;34m                                                                                                                   \u001b[0m\n",
       "\u001b[48;2;39;40;34m \u001b[0m\u001b[38;2;248;248;242;48;2;39;40;34mdata_statistics\u001b[0m\u001b[38;2;248;248;242;48;2;39;40;34m(\u001b[0m\u001b[38;2;248;248;242;48;2;39;40;34minput_data\u001b[0m\u001b[38;2;248;248;242;48;2;39;40;34m)\u001b[0m\u001b[48;2;39;40;34m                                                                                      \u001b[0m\u001b[48;2;39;40;34m \u001b[0m\n",
       "\u001b[48;2;39;40;34m                                                                                                                   \u001b[0m\n",
       "\n",
       "\u001b[1;33m • \u001b[0m\u001b[1mParameters\u001b[0m:                                                                                                     \n",
       "\u001b[1;33m   \u001b[0m\u001b[1;33m • \u001b[0m\u001b[1mdata\u001b[0m (array): The input data for which the average needs to be calculated. It should be a list of numerical  \n",
       "\u001b[1;33m   \u001b[0m\u001b[1;33m   \u001b[0mvalues.                                                                                                      \n",
       "\u001b[1;33m   \u001b[0m\u001b[1;33m   \u001b[0m\u001b[1;33m • \u001b[0mRequired: True                                                                                            \n",
       "\u001b[1;33m • \u001b[0m\u001b[1mReturns\u001b[0m:                                                                                                        \n",
       "\u001b[1;33m   \u001b[0m\u001b[1;33m • \u001b[0m\u001b[1maverage\u001b[0m (float): The average value of the input data.                                                        \n"
      ]
     },
     "metadata": {},
     "output_type": "display_data"
    }
   ],
   "source": [
    "skillC.show()"
   ]
  },
  {
   "cell_type": "code",
   "execution_count": 15,
   "metadata": {},
   "outputs": [
    {
     "data": {
      "application/vnd.jupyter.widget-view+json": {
       "model_id": "482c2f1f5ef64aec803292ea4137421a",
       "version_major": 2,
       "version_minor": 0
      },
      "text/plain": [
       "Output()"
      ]
     },
     "metadata": {},
     "output_type": "display_data"
    },
    {
     "data": {
      "text/html": [
       "<pre style=\"white-space:pre;overflow-x:auto;line-height:normal;font-family:Menlo,'DejaVu Sans Mono',consolas,'Courier New',monospace\"></pre>\n"
      ],
      "text/plain": []
     },
     "metadata": {},
     "output_type": "display_data"
    },
    {
     "data": {
      "text/html": [
       "<pre style=\"white-space:pre;overflow-x:auto;line-height:normal;font-family:Menlo,'DejaVu Sans Mono',consolas,'Courier New',monospace\"></pre>\n"
      ],
      "text/plain": []
     },
     "metadata": {},
     "output_type": "display_data"
    },
    {
     "data": {
      "text/html": [
       "<pre style=\"white-space:pre;overflow-x:auto;line-height:normal;font-family:Menlo,'DejaVu Sans Mono',consolas,'Courier New',monospace\">Langsmith Run URL:                                                                                                 \n",
       "<a href=\"http://localhost/o/00000000-0000-0000-0000-000000000000/projects/p/856d5024-48fe-4a9c-b1f9-5236f8d3aebd/r/02f47717-dc2e-4908-af17-7403f9732e2d?poll=true\" target=\"_blank\"><span style=\"color: #000080; text-decoration-color: #000080; text-decoration: underline\">http://localhost/o/00000000-0000-0000-0000-000000000000/projects/p/856d5024-48fe-4a9c-b1f9-5236f8d3aebd/r/02f47717-</span></a>\n",
       "<a href=\"http://localhost/o/00000000-0000-0000-0000-000000000000/projects/p/856d5024-48fe-4a9c-b1f9-5236f8d3aebd/r/02f47717-dc2e-4908-af17-7403f9732e2d?poll=true\" target=\"_blank\"><span style=\"color: #000080; text-decoration-color: #000080; text-decoration: underline\">dc2e-4908-af17-7403f9732e2d?poll=true</span></a>                                                                              \n",
       "</pre>\n"
      ],
      "text/plain": [
       "Langsmith Run URL:                                                                                                 \n",
       "\u001b]8;id=890260;http://localhost/o/00000000-0000-0000-0000-000000000000/projects/p/856d5024-48fe-4a9c-b1f9-5236f8d3aebd/r/02f47717-dc2e-4908-af17-7403f9732e2d?poll=true\u001b\\\u001b[4;34mhttp://localhost/o/00000000-0000-0000-0000-000000000000/projects/p/856d5024-48fe-4a9c-b1f9-5236f8d3aebd/r/02f47717-\u001b[0m\u001b]8;;\u001b\\\n",
       "\u001b]8;id=890260;http://localhost/o/00000000-0000-0000-0000-000000000000/projects/p/856d5024-48fe-4a9c-b1f9-5236f8d3aebd/r/02f47717-dc2e-4908-af17-7403f9732e2d?poll=true\u001b\\\u001b[4;34mdc2e-4908-af17-7403f9732e2d?poll=true\u001b[0m\u001b]8;;\u001b\\                                                                              \n"
      ]
     },
     "metadata": {},
     "output_type": "display_data"
    }
   ],
   "source": [
    "chained_skill = skillA + skillB > \"I have a dataset with empty values. First, I want to clean the data by removing the empty values, then visualize it using a bar chart.\""
   ]
  },
  {
   "cell_type": "code",
   "execution_count": 16,
   "metadata": {},
   "outputs": [
    {
     "data": {
      "text/html": [
       "<pre style=\"white-space:pre;overflow-x:auto;line-height:normal;font-family:Menlo,'DejaVu Sans Mono',consolas,'Courier New',monospace\">\n",
       "                                                  <span style=\"font-weight: bold; text-decoration: underline\">Skill Details:</span>                                                   \n",
       "\n",
       "<span style=\"color: #808000; text-decoration-color: #808000; font-weight: bold\"> • </span><span style=\"font-weight: bold\">Name</span>: clean_and_visualize_data                                                                                  \n",
       "<span style=\"color: #808000; text-decoration-color: #808000; font-weight: bold\"> • </span><span style=\"font-weight: bold\">Description</span>: This skill is responsible for cleaning the input data by removing empty values and then visualizing\n",
       "<span style=\"color: #808000; text-decoration-color: #808000; font-weight: bold\">   </span>it by generating a bar chart. It provides a simple way to preprocess and understand data.                       \n",
       "<span style=\"color: #808000; text-decoration-color: #808000; font-weight: bold\"> • </span><span style=\"font-weight: bold\">Version</span>: 1.0.0                                                                                                  \n",
       "<span style=\"color: #808000; text-decoration-color: #808000; font-weight: bold\"> • </span><span style=\"font-weight: bold\">Usage</span>:                                                                                                          \n",
       "\n",
       "<span style=\"background-color: #272822\">                                                                                                                   </span>\n",
       "<span style=\"background-color: #272822\"> </span><span style=\"color: #f8f8f2; text-decoration-color: #f8f8f2; background-color: #272822\">clean_and_visualize_data(input_data)</span><span style=\"background-color: #272822\">                                                                              </span>\n",
       "<span style=\"background-color: #272822\">                                                                                                                   </span>\n",
       "\n",
       "<span style=\"color: #808000; text-decoration-color: #808000; font-weight: bold\"> • </span><span style=\"font-weight: bold\">Parameters</span>:                                                                                                     \n",
       "<span style=\"color: #808000; text-decoration-color: #808000; font-weight: bold\">    • </span><span style=\"font-weight: bold\">data</span> (array): The input data that needs cleaning and visualization. It should be a list of values.           \n",
       "<span style=\"color: #808000; text-decoration-color: #808000; font-weight: bold\">       • </span>Required: True                                                                                            \n",
       "<span style=\"color: #808000; text-decoration-color: #808000; font-weight: bold\"> • </span><span style=\"font-weight: bold\">Returns</span>:                                                                                                        \n",
       "<span style=\"color: #808000; text-decoration-color: #808000; font-weight: bold\">    • </span><span style=\"font-weight: bold\">cleaned_data</span> (array): The cleaned data after removing empty values.                                          \n",
       "</pre>\n"
      ],
      "text/plain": [
       "\n",
       "                                                  \u001b[1;4mSkill Details:\u001b[0m                                                   \n",
       "\n",
       "\u001b[1;33m • \u001b[0m\u001b[1mName\u001b[0m: clean_and_visualize_data                                                                                  \n",
       "\u001b[1;33m • \u001b[0m\u001b[1mDescription\u001b[0m: This skill is responsible for cleaning the input data by removing empty values and then visualizing\n",
       "\u001b[1;33m   \u001b[0mit by generating a bar chart. It provides a simple way to preprocess and understand data.                       \n",
       "\u001b[1;33m • \u001b[0m\u001b[1mVersion\u001b[0m: 1.0.0                                                                                                  \n",
       "\u001b[1;33m • \u001b[0m\u001b[1mUsage\u001b[0m:                                                                                                          \n",
       "\n",
       "\u001b[48;2;39;40;34m                                                                                                                   \u001b[0m\n",
       "\u001b[48;2;39;40;34m \u001b[0m\u001b[38;2;248;248;242;48;2;39;40;34mclean_and_visualize_data\u001b[0m\u001b[38;2;248;248;242;48;2;39;40;34m(\u001b[0m\u001b[38;2;248;248;242;48;2;39;40;34minput_data\u001b[0m\u001b[38;2;248;248;242;48;2;39;40;34m)\u001b[0m\u001b[48;2;39;40;34m                                                                             \u001b[0m\u001b[48;2;39;40;34m \u001b[0m\n",
       "\u001b[48;2;39;40;34m                                                                                                                   \u001b[0m\n",
       "\n",
       "\u001b[1;33m • \u001b[0m\u001b[1mParameters\u001b[0m:                                                                                                     \n",
       "\u001b[1;33m   \u001b[0m\u001b[1;33m • \u001b[0m\u001b[1mdata\u001b[0m (array): The input data that needs cleaning and visualization. It should be a list of values.           \n",
       "\u001b[1;33m   \u001b[0m\u001b[1;33m   \u001b[0m\u001b[1;33m • \u001b[0mRequired: True                                                                                            \n",
       "\u001b[1;33m • \u001b[0m\u001b[1mReturns\u001b[0m:                                                                                                        \n",
       "\u001b[1;33m   \u001b[0m\u001b[1;33m • \u001b[0m\u001b[1mcleaned_data\u001b[0m (array): The cleaned data after removing empty values.                                          \n"
      ]
     },
     "metadata": {},
     "output_type": "display_data"
    }
   ],
   "source": [
    "chained_skill.show()"
   ]
  },
  {
   "cell_type": "code",
   "execution_count": 17,
   "metadata": {},
   "outputs": [
    {
     "data": {
      "application/vnd.jupyter.widget-view+json": {
       "model_id": "41f38ee4fe9244149b127558f8ed2992",
       "version_major": 2,
       "version_minor": 0
      },
      "text/plain": [
       "Output()"
      ]
     },
     "metadata": {},
     "output_type": "display_data"
    },
    {
     "data": {
      "text/html": [
       "<pre style=\"white-space:pre;overflow-x:auto;line-height:normal;font-family:Menlo,'DejaVu Sans Mono',consolas,'Courier New',monospace\"></pre>\n"
      ],
      "text/plain": []
     },
     "metadata": {},
     "output_type": "display_data"
    },
    {
     "data": {
      "text/html": [
       "<pre style=\"white-space:pre;overflow-x:auto;line-height:normal;font-family:Menlo,'DejaVu Sans Mono',consolas,'Courier New',monospace\"></pre>\n"
      ],
      "text/plain": []
     },
     "metadata": {},
     "output_type": "display_data"
    },
    {
     "data": {
      "text/html": [
       "<pre style=\"white-space:pre;overflow-x:auto;line-height:normal;font-family:Menlo,'DejaVu Sans Mono',consolas,'Courier New',monospace\">Langsmith Run URL:                                                                                                 \n",
       "<a href=\"http://localhost/o/00000000-0000-0000-0000-000000000000/projects/p/856d5024-48fe-4a9c-b1f9-5236f8d3aebd/r/6c71660e-f9fc-441c-a399-589ba14ef6d7?poll=true\" target=\"_blank\"><span style=\"color: #000080; text-decoration-color: #000080; text-decoration: underline\">http://localhost/o/00000000-0000-0000-0000-000000000000/projects/p/856d5024-48fe-4a9c-b1f9-5236f8d3aebd/r/6c71660e-</span></a>\n",
       "<a href=\"http://localhost/o/00000000-0000-0000-0000-000000000000/projects/p/856d5024-48fe-4a9c-b1f9-5236f8d3aebd/r/6c71660e-f9fc-441c-a399-589ba14ef6d7?poll=true\" target=\"_blank\"><span style=\"color: #000080; text-decoration-color: #000080; text-decoration: underline\">f9fc-441c-a399-589ba14ef6d7?poll=true</span></a>                                                                              \n",
       "</pre>\n"
      ],
      "text/plain": [
       "Langsmith Run URL:                                                                                                 \n",
       "\u001b]8;id=569225;http://localhost/o/00000000-0000-0000-0000-000000000000/projects/p/856d5024-48fe-4a9c-b1f9-5236f8d3aebd/r/6c71660e-f9fc-441c-a399-589ba14ef6d7?poll=true\u001b\\\u001b[4;34mhttp://localhost/o/00000000-0000-0000-0000-000000000000/projects/p/856d5024-48fe-4a9c-b1f9-5236f8d3aebd/r/6c71660e-\u001b[0m\u001b]8;;\u001b\\\n",
       "\u001b]8;id=569225;http://localhost/o/00000000-0000-0000-0000-000000000000/projects/p/856d5024-48fe-4a9c-b1f9-5236f8d3aebd/r/6c71660e-f9fc-441c-a399-589ba14ef6d7?poll=true\u001b\\\u001b[4;34mf9fc-441c-a399-589ba14ef6d7?poll=true\u001b[0m\u001b]8;;\u001b\\                                                                              \n"
      ]
     },
     "metadata": {},
     "output_type": "display_data"
    }
   ],
   "source": [
    "internal_logic_combined_skill = skillA + skillB + skillC > \"I have a dataset. I want to both visualize the data using a bar chart and calculate its average simultaneously\""
   ]
  },
  {
   "cell_type": "code",
   "execution_count": 18,
   "metadata": {},
   "outputs": [
    {
     "data": {
      "text/html": [
       "<pre style=\"white-space:pre;overflow-x:auto;line-height:normal;font-family:Menlo,'DejaVu Sans Mono',consolas,'Courier New',monospace\">\n",
       "                                                  <span style=\"font-weight: bold; text-decoration: underline\">Skill Details:</span>                                                   \n",
       "\n",
       "<span style=\"color: #808000; text-decoration-color: #808000; font-weight: bold\"> • </span><span style=\"font-weight: bold\">Name</span>: data_analysis                                                                                             \n",
       "<span style=\"color: #808000; text-decoration-color: #808000; font-weight: bold\"> • </span><span style=\"font-weight: bold\">Description</span>: This skill is responsible for cleaning the input data, visualizing it by generating a bar chart,   \n",
       "<span style=\"color: #808000; text-decoration-color: #808000; font-weight: bold\">   </span>and calculating its average. It provides a comprehensive way to preprocess, understand, and analyze data.       \n",
       "<span style=\"color: #808000; text-decoration-color: #808000; font-weight: bold\"> • </span><span style=\"font-weight: bold\">Version</span>: 1.0.0                                                                                                  \n",
       "<span style=\"color: #808000; text-decoration-color: #808000; font-weight: bold\"> • </span><span style=\"font-weight: bold\">Usage</span>:                                                                                                          \n",
       "\n",
       "<span style=\"background-color: #272822\">                                                                                                                   </span>\n",
       "<span style=\"background-color: #272822\"> </span><span style=\"color: #f8f8f2; text-decoration-color: #f8f8f2; background-color: #272822\">data_analysis(input_data)</span><span style=\"background-color: #272822\">                                                                                         </span>\n",
       "<span style=\"background-color: #272822\">                                                                                                                   </span>\n",
       "\n",
       "<span style=\"color: #808000; text-decoration-color: #808000; font-weight: bold\"> • </span><span style=\"font-weight: bold\">Parameters</span>:                                                                                                     \n",
       "<span style=\"color: #808000; text-decoration-color: #808000; font-weight: bold\">    • </span><span style=\"font-weight: bold\">data</span> (array): The input data that needs cleaning, visualization, and average calculation. It should be a list\n",
       "<span style=\"color: #808000; text-decoration-color: #808000; font-weight: bold\">      </span>of values.                                                                                                   \n",
       "<span style=\"color: #808000; text-decoration-color: #808000; font-weight: bold\">       • </span>Required: True                                                                                            \n",
       "<span style=\"color: #808000; text-decoration-color: #808000; font-weight: bold\"> • </span><span style=\"font-weight: bold\">Returns</span>:                                                                                                        \n",
       "<span style=\"color: #808000; text-decoration-color: #808000; font-weight: bold\">    • </span><span style=\"font-weight: bold\">cleaned_data</span> (array): The cleaned data after removing empty values.                                          \n",
       "<span style=\"color: #808000; text-decoration-color: #808000; font-weight: bold\">    • </span><span style=\"font-weight: bold\">visualization</span> (object): The visualization of the data.                                                       \n",
       "<span style=\"color: #808000; text-decoration-color: #808000; font-weight: bold\">    • </span><span style=\"font-weight: bold\">average</span> (float): The average value of the input data.                                                        \n",
       "</pre>\n"
      ],
      "text/plain": [
       "\n",
       "                                                  \u001b[1;4mSkill Details:\u001b[0m                                                   \n",
       "\n",
       "\u001b[1;33m • \u001b[0m\u001b[1mName\u001b[0m: data_analysis                                                                                             \n",
       "\u001b[1;33m • \u001b[0m\u001b[1mDescription\u001b[0m: This skill is responsible for cleaning the input data, visualizing it by generating a bar chart,   \n",
       "\u001b[1;33m   \u001b[0mand calculating its average. It provides a comprehensive way to preprocess, understand, and analyze data.       \n",
       "\u001b[1;33m • \u001b[0m\u001b[1mVersion\u001b[0m: 1.0.0                                                                                                  \n",
       "\u001b[1;33m • \u001b[0m\u001b[1mUsage\u001b[0m:                                                                                                          \n",
       "\n",
       "\u001b[48;2;39;40;34m                                                                                                                   \u001b[0m\n",
       "\u001b[48;2;39;40;34m \u001b[0m\u001b[38;2;248;248;242;48;2;39;40;34mdata_analysis\u001b[0m\u001b[38;2;248;248;242;48;2;39;40;34m(\u001b[0m\u001b[38;2;248;248;242;48;2;39;40;34minput_data\u001b[0m\u001b[38;2;248;248;242;48;2;39;40;34m)\u001b[0m\u001b[48;2;39;40;34m                                                                                        \u001b[0m\u001b[48;2;39;40;34m \u001b[0m\n",
       "\u001b[48;2;39;40;34m                                                                                                                   \u001b[0m\n",
       "\n",
       "\u001b[1;33m • \u001b[0m\u001b[1mParameters\u001b[0m:                                                                                                     \n",
       "\u001b[1;33m   \u001b[0m\u001b[1;33m • \u001b[0m\u001b[1mdata\u001b[0m (array): The input data that needs cleaning, visualization, and average calculation. It should be a list\n",
       "\u001b[1;33m   \u001b[0m\u001b[1;33m   \u001b[0mof values.                                                                                                   \n",
       "\u001b[1;33m   \u001b[0m\u001b[1;33m   \u001b[0m\u001b[1;33m • \u001b[0mRequired: True                                                                                            \n",
       "\u001b[1;33m • \u001b[0m\u001b[1mReturns\u001b[0m:                                                                                                        \n",
       "\u001b[1;33m   \u001b[0m\u001b[1;33m • \u001b[0m\u001b[1mcleaned_data\u001b[0m (array): The cleaned data after removing empty values.                                          \n",
       "\u001b[1;33m   \u001b[0m\u001b[1;33m • \u001b[0m\u001b[1mvisualization\u001b[0m (object): The visualization of the data.                                                       \n",
       "\u001b[1;33m   \u001b[0m\u001b[1;33m • \u001b[0m\u001b[1maverage\u001b[0m (float): The average value of the input data.                                                        \n"
      ]
     },
     "metadata": {},
     "output_type": "display_data"
    }
   ],
   "source": [
    "internal_logic_combined_skill.show()"
   ]
  },
  {
   "cell_type": "code",
   "execution_count": 19,
   "metadata": {},
   "outputs": [
    {
     "data": {
      "application/vnd.jupyter.widget-view+json": {
       "model_id": "b5b2aeed12e648d8bf9151fe5c6bf67f",
       "version_major": 2,
       "version_minor": 0
      },
      "text/plain": [
       "Output()"
      ]
     },
     "metadata": {},
     "output_type": "display_data"
    },
    {
     "data": {
      "text/html": [
       "<pre style=\"white-space:pre;overflow-x:auto;line-height:normal;font-family:Menlo,'DejaVu Sans Mono',consolas,'Courier New',monospace\"></pre>\n"
      ],
      "text/plain": []
     },
     "metadata": {},
     "output_type": "display_data"
    },
    {
     "data": {
      "text/html": [
       "<pre style=\"white-space:pre;overflow-x:auto;line-height:normal;font-family:Menlo,'DejaVu Sans Mono',consolas,'Courier New',monospace\"></pre>\n"
      ],
      "text/plain": []
     },
     "metadata": {},
     "output_type": "display_data"
    },
    {
     "data": {
      "text/html": [
       "<pre style=\"white-space:pre;overflow-x:auto;line-height:normal;font-family:Menlo,'DejaVu Sans Mono',consolas,'Courier New',monospace\">Langsmith Run URL:                                                                                                 \n",
       "<a href=\"http://localhost/o/00000000-0000-0000-0000-000000000000/projects/p/856d5024-48fe-4a9c-b1f9-5236f8d3aebd/r/4e02c38f-ebda-4e18-949a-bc8667454564?poll=true\" target=\"_blank\"><span style=\"color: #000080; text-decoration-color: #000080; text-decoration: underline\">http://localhost/o/00000000-0000-0000-0000-000000000000/projects/p/856d5024-48fe-4a9c-b1f9-5236f8d3aebd/r/4e02c38f-</span></a>\n",
       "<a href=\"http://localhost/o/00000000-0000-0000-0000-000000000000/projects/p/856d5024-48fe-4a9c-b1f9-5236f8d3aebd/r/4e02c38f-ebda-4e18-949a-bc8667454564?poll=true\" target=\"_blank\"><span style=\"color: #000080; text-decoration-color: #000080; text-decoration: underline\">ebda-4e18-949a-bc8667454564?poll=true</span></a>                                                                              \n",
       "</pre>\n"
      ],
      "text/plain": [
       "Langsmith Run URL:                                                                                                 \n",
       "\u001b]8;id=469878;http://localhost/o/00000000-0000-0000-0000-000000000000/projects/p/856d5024-48fe-4a9c-b1f9-5236f8d3aebd/r/4e02c38f-ebda-4e18-949a-bc8667454564?poll=true\u001b\\\u001b[4;34mhttp://localhost/o/00000000-0000-0000-0000-000000000000/projects/p/856d5024-48fe-4a9c-b1f9-5236f8d3aebd/r/4e02c38f-\u001b[0m\u001b]8;;\u001b\\\n",
       "\u001b]8;id=469878;http://localhost/o/00000000-0000-0000-0000-000000000000/projects/p/856d5024-48fe-4a9c-b1f9-5236f8d3aebd/r/4e02c38f-ebda-4e18-949a-bc8667454564?poll=true\u001b\\\u001b[4;34mebda-4e18-949a-bc8667454564?poll=true\u001b[0m\u001b]8;;\u001b\\                                                                              \n"
      ]
     },
     "metadata": {},
     "output_type": "display_data"
    }
   ],
   "source": [
    "parallel_combined = skillA + skillB + skillC > \"I have a dataset. I want to both visualize the data using a bar chart and calculate its average simultaneously\""
   ]
  },
  {
   "cell_type": "code",
   "execution_count": 20,
   "metadata": {},
   "outputs": [
    {
     "data": {
      "text/html": [
       "<pre style=\"white-space:pre;overflow-x:auto;line-height:normal;font-family:Menlo,'DejaVu Sans Mono',consolas,'Courier New',monospace\">\n",
       "                                                  <span style=\"font-weight: bold; text-decoration: underline\">Skill Details:</span>                                                   \n",
       "\n",
       "<span style=\"color: #808000; text-decoration-color: #808000; font-weight: bold\"> • </span><span style=\"font-weight: bold\">Name</span>: data_analysis                                                                                             \n",
       "<span style=\"color: #808000; text-decoration-color: #808000; font-weight: bold\"> • </span><span style=\"font-weight: bold\">Description</span>: This skill is responsible for cleaning the input data, visualizing it by generating a bar chart,   \n",
       "<span style=\"color: #808000; text-decoration-color: #808000; font-weight: bold\">   </span>and calculating its average. It provides a comprehensive way to preprocess, understand, and analyze data.       \n",
       "<span style=\"color: #808000; text-decoration-color: #808000; font-weight: bold\"> • </span><span style=\"font-weight: bold\">Version</span>: 1.0.0                                                                                                  \n",
       "<span style=\"color: #808000; text-decoration-color: #808000; font-weight: bold\"> • </span><span style=\"font-weight: bold\">Usage</span>:                                                                                                          \n",
       "\n",
       "<span style=\"background-color: #272822\">                                                                                                                   </span>\n",
       "<span style=\"background-color: #272822\"> </span><span style=\"color: #f8f8f2; text-decoration-color: #f8f8f2; background-color: #272822\">data_analysis(input_data)</span><span style=\"background-color: #272822\">                                                                                         </span>\n",
       "<span style=\"background-color: #272822\">                                                                                                                   </span>\n",
       "\n",
       "<span style=\"color: #808000; text-decoration-color: #808000; font-weight: bold\"> • </span><span style=\"font-weight: bold\">Parameters</span>:                                                                                                     \n",
       "<span style=\"color: #808000; text-decoration-color: #808000; font-weight: bold\">    • </span><span style=\"font-weight: bold\">data</span> (array): The input data that needs cleaning, visualization, and average calculation. It should be a list\n",
       "<span style=\"color: #808000; text-decoration-color: #808000; font-weight: bold\">      </span>of values.                                                                                                   \n",
       "<span style=\"color: #808000; text-decoration-color: #808000; font-weight: bold\">       • </span>Required: True                                                                                            \n",
       "<span style=\"color: #808000; text-decoration-color: #808000; font-weight: bold\"> • </span><span style=\"font-weight: bold\">Returns</span>:                                                                                                        \n",
       "<span style=\"color: #808000; text-decoration-color: #808000; font-weight: bold\">    • </span><span style=\"font-weight: bold\">cleaned_data</span> (array): The cleaned data after removing empty values.                                          \n",
       "<span style=\"color: #808000; text-decoration-color: #808000; font-weight: bold\">    • </span><span style=\"font-weight: bold\">visualization</span> (object): The visualization of the data.                                                       \n",
       "<span style=\"color: #808000; text-decoration-color: #808000; font-weight: bold\">    • </span><span style=\"font-weight: bold\">average</span> (float): The average value of the input data.                                                        \n",
       "</pre>\n"
      ],
      "text/plain": [
       "\n",
       "                                                  \u001b[1;4mSkill Details:\u001b[0m                                                   \n",
       "\n",
       "\u001b[1;33m • \u001b[0m\u001b[1mName\u001b[0m: data_analysis                                                                                             \n",
       "\u001b[1;33m • \u001b[0m\u001b[1mDescription\u001b[0m: This skill is responsible for cleaning the input data, visualizing it by generating a bar chart,   \n",
       "\u001b[1;33m   \u001b[0mand calculating its average. It provides a comprehensive way to preprocess, understand, and analyze data.       \n",
       "\u001b[1;33m • \u001b[0m\u001b[1mVersion\u001b[0m: 1.0.0                                                                                                  \n",
       "\u001b[1;33m • \u001b[0m\u001b[1mUsage\u001b[0m:                                                                                                          \n",
       "\n",
       "\u001b[48;2;39;40;34m                                                                                                                   \u001b[0m\n",
       "\u001b[48;2;39;40;34m \u001b[0m\u001b[38;2;248;248;242;48;2;39;40;34mdata_analysis\u001b[0m\u001b[38;2;248;248;242;48;2;39;40;34m(\u001b[0m\u001b[38;2;248;248;242;48;2;39;40;34minput_data\u001b[0m\u001b[38;2;248;248;242;48;2;39;40;34m)\u001b[0m\u001b[48;2;39;40;34m                                                                                        \u001b[0m\u001b[48;2;39;40;34m \u001b[0m\n",
       "\u001b[48;2;39;40;34m                                                                                                                   \u001b[0m\n",
       "\n",
       "\u001b[1;33m • \u001b[0m\u001b[1mParameters\u001b[0m:                                                                                                     \n",
       "\u001b[1;33m   \u001b[0m\u001b[1;33m • \u001b[0m\u001b[1mdata\u001b[0m (array): The input data that needs cleaning, visualization, and average calculation. It should be a list\n",
       "\u001b[1;33m   \u001b[0m\u001b[1;33m   \u001b[0mof values.                                                                                                   \n",
       "\u001b[1;33m   \u001b[0m\u001b[1;33m   \u001b[0m\u001b[1;33m • \u001b[0mRequired: True                                                                                            \n",
       "\u001b[1;33m • \u001b[0m\u001b[1mReturns\u001b[0m:                                                                                                        \n",
       "\u001b[1;33m   \u001b[0m\u001b[1;33m • \u001b[0m\u001b[1mcleaned_data\u001b[0m (array): The cleaned data after removing empty values.                                          \n",
       "\u001b[1;33m   \u001b[0m\u001b[1;33m • \u001b[0m\u001b[1mvisualization\u001b[0m (object): The visualization of the data.                                                       \n",
       "\u001b[1;33m   \u001b[0m\u001b[1;33m • \u001b[0m\u001b[1maverage\u001b[0m (float): The average value of the input data.                                                        \n"
      ]
     },
     "metadata": {},
     "output_type": "display_data"
    }
   ],
   "source": [
    "parallel_combined.show()"
   ]
  },
  {
   "attachments": {},
   "cell_type": "markdown",
   "metadata": {},
   "source": [
    "#### 2 Refactor Case 3: decompose one skill into multiple\n",
    "\n",
    "- decompose"
   ]
  },
  {
   "cell_type": "code",
   "execution_count": 21,
   "metadata": {},
   "outputs": [],
   "source": [
    "def create_complex_skill():\n",
    "    skill_json = {\n",
    "        'skill_name': 'data_visualization_and_statistics',\n",
    "        'skill_description': 'This skill is responsible for visualizing the input data using a bar chart and calculating its average simultaneously. It provides a comprehensive overview of the dataset.',\n",
    "        'skill_metadata': {'created_at': '2023-09-30 00:26:46', 'author': 'gongjunmin', 'updated_at': '2023-09-30 00:26:46', 'usage_count': 0, 'version': '1.0.0', 'additional_kwargs': {}},\n",
    "        'skill_tags': ['data visualization', 'statistics', 'bar chart'],\n",
    "        'skill_usage_example': 'data_visualization_and_statistics(input_data)',\n",
    "        'skill_program_language': 'python',\n",
    "        'skill_code': 'def data_visualization_and_statistics(input_data):\\n    visualize_data(input_data)\\n    calculate_average(input_data)',\n",
    "        'skill_parameters': [\n",
    "            {'param_name': 'input_data', 'param_type': 'any', 'param_description': 'The input dataset to be visualized and analyzed.', 'param_required': True, 'param_default': None}\n",
    "        ],\n",
    "        'skill_return': None,\n",
    "        'skill_dependencies': [\n",
    "            {'dependency_name': 'visualize_data', 'dependency_version': '', 'dependency_type': 'built-in'},\n",
    "            {'dependency_name': 'calculate_average', 'dependency_version': '', 'dependency_type': 'built-in'}\n",
    "        ]\n",
    "    }\n",
    "    skill = CodeSkill(**skill_json)\n",
    "    skill.skill_metadata = BaseSkillMetadata()\n",
    "    skill.conversation_history = []\n",
    "    return skill\n"
   ]
  },
  {
   "cell_type": "code",
   "execution_count": 22,
   "metadata": {},
   "outputs": [],
   "source": [
    "skill = create_complex_skill()"
   ]
  },
  {
   "cell_type": "code",
   "execution_count": 23,
   "metadata": {},
   "outputs": [
    {
     "data": {
      "application/vnd.jupyter.widget-view+json": {
       "model_id": "2d5d50adfa434150a37aa177f2a14c25",
       "version_major": 2,
       "version_minor": 0
      },
      "text/plain": [
       "Output()"
      ]
     },
     "metadata": {},
     "output_type": "display_data"
    },
    {
     "data": {
      "text/html": [
       "<pre style=\"white-space:pre;overflow-x:auto;line-height:normal;font-family:Menlo,'DejaVu Sans Mono',consolas,'Courier New',monospace\"></pre>\n"
      ],
      "text/plain": []
     },
     "metadata": {},
     "output_type": "display_data"
    },
    {
     "data": {
      "text/html": [
       "<pre style=\"white-space:pre;overflow-x:auto;line-height:normal;font-family:Menlo,'DejaVu Sans Mono',consolas,'Courier New',monospace\"></pre>\n"
      ],
      "text/plain": []
     },
     "metadata": {},
     "output_type": "display_data"
    },
    {
     "data": {
      "text/html": [
       "<pre style=\"white-space:pre;overflow-x:auto;line-height:normal;font-family:Menlo,'DejaVu Sans Mono',consolas,'Courier New',monospace\">Langsmith Run URL:                                                                                                 \n",
       "<a href=\"http://localhost/o/00000000-0000-0000-0000-000000000000/projects/p/856d5024-48fe-4a9c-b1f9-5236f8d3aebd/r/b0de9ace-2d39-4f25-80c8-19b8c36ec3bc?poll=true\" target=\"_blank\"><span style=\"color: #000080; text-decoration-color: #000080; text-decoration: underline\">http://localhost/o/00000000-0000-0000-0000-000000000000/projects/p/856d5024-48fe-4a9c-b1f9-5236f8d3aebd/r/b0de9ace-</span></a>\n",
       "<a href=\"http://localhost/o/00000000-0000-0000-0000-000000000000/projects/p/856d5024-48fe-4a9c-b1f9-5236f8d3aebd/r/b0de9ace-2d39-4f25-80c8-19b8c36ec3bc?poll=true\" target=\"_blank\"><span style=\"color: #000080; text-decoration-color: #000080; text-decoration: underline\">2d39-4f25-80c8-19b8c36ec3bc?poll=true</span></a>                                                                              \n",
       "</pre>\n"
      ],
      "text/plain": [
       "Langsmith Run URL:                                                                                                 \n",
       "\u001b]8;id=320681;http://localhost/o/00000000-0000-0000-0000-000000000000/projects/p/856d5024-48fe-4a9c-b1f9-5236f8d3aebd/r/b0de9ace-2d39-4f25-80c8-19b8c36ec3bc?poll=true\u001b\\\u001b[4;34mhttp://localhost/o/00000000-0000-0000-0000-000000000000/projects/p/856d5024-48fe-4a9c-b1f9-5236f8d3aebd/r/b0de9ace-\u001b[0m\u001b]8;;\u001b\\\n",
       "\u001b]8;id=320681;http://localhost/o/00000000-0000-0000-0000-000000000000/projects/p/856d5024-48fe-4a9c-b1f9-5236f8d3aebd/r/b0de9ace-2d39-4f25-80c8-19b8c36ec3bc?poll=true\u001b\\\u001b[4;34m2d39-4f25-80c8-19b8c36ec3bc?poll=true\u001b[0m\u001b]8;;\u001b\\                                                                              \n"
      ]
     },
     "metadata": {},
     "output_type": "display_data"
    }
   ],
   "source": [
    "decomposed_skills = skill < \"I want to decompose this skill into two skills: one for visualizing the data using a bar chart, and one for calculating the average.\""
   ]
  },
  {
   "cell_type": "code",
   "execution_count": 24,
   "metadata": {},
   "outputs": [
    {
     "data": {
      "text/plain": [
       "2"
      ]
     },
     "execution_count": 24,
     "metadata": {},
     "output_type": "execute_result"
    }
   ],
   "source": [
    "len(decomposed_skills)"
   ]
  },
  {
   "cell_type": "code",
   "execution_count": 25,
   "metadata": {},
   "outputs": [
    {
     "data": {
      "text/html": [
       "<pre style=\"white-space:pre;overflow-x:auto;line-height:normal;font-family:Menlo,'DejaVu Sans Mono',consolas,'Courier New',monospace\">\n",
       "                                                  <span style=\"font-weight: bold; text-decoration: underline\">Skill Details:</span>                                                   \n",
       "\n",
       "<span style=\"color: #808000; text-decoration-color: #808000; font-weight: bold\"> • </span><span style=\"font-weight: bold\">Name</span>: visualize_data                                                                                            \n",
       "<span style=\"color: #808000; text-decoration-color: #808000; font-weight: bold\"> • </span><span style=\"font-weight: bold\">Description</span>: This skill is responsible for visualizing the input data using a bar chart. It provides a visual   \n",
       "<span style=\"color: #808000; text-decoration-color: #808000; font-weight: bold\">   </span>overview of the dataset.                                                                                        \n",
       "<span style=\"color: #808000; text-decoration-color: #808000; font-weight: bold\"> • </span><span style=\"font-weight: bold\">Version</span>: 1.0.0                                                                                                  \n",
       "<span style=\"color: #808000; text-decoration-color: #808000; font-weight: bold\"> • </span><span style=\"font-weight: bold\">Usage</span>:                                                                                                          \n",
       "\n",
       "<span style=\"background-color: #272822\">                                                                                                                   </span>\n",
       "<span style=\"background-color: #272822\"> </span><span style=\"color: #f8f8f2; text-decoration-color: #f8f8f2; background-color: #272822\">visualize_data(input_data)</span><span style=\"background-color: #272822\">                                                                                        </span>\n",
       "<span style=\"background-color: #272822\">                                                                                                                   </span>\n",
       "\n",
       "<span style=\"color: #808000; text-decoration-color: #808000; font-weight: bold\"> • </span><span style=\"font-weight: bold\">Parameters</span>:                                                                                                     \n",
       "<span style=\"color: #808000; text-decoration-color: #808000; font-weight: bold\">    • </span><span style=\"font-weight: bold\">input_data</span> (any): The input dataset to be visualized.                                                        \n",
       "<span style=\"color: #808000; text-decoration-color: #808000; font-weight: bold\">       • </span>Required: True                                                                                            \n",
       "<span style=\"color: #808000; text-decoration-color: #808000; font-weight: bold\"> • </span><span style=\"font-weight: bold\">Returns</span>:                                                                                                        \n",
       "</pre>\n"
      ],
      "text/plain": [
       "\n",
       "                                                  \u001b[1;4mSkill Details:\u001b[0m                                                   \n",
       "\n",
       "\u001b[1;33m • \u001b[0m\u001b[1mName\u001b[0m: visualize_data                                                                                            \n",
       "\u001b[1;33m • \u001b[0m\u001b[1mDescription\u001b[0m: This skill is responsible for visualizing the input data using a bar chart. It provides a visual   \n",
       "\u001b[1;33m   \u001b[0moverview of the dataset.                                                                                        \n",
       "\u001b[1;33m • \u001b[0m\u001b[1mVersion\u001b[0m: 1.0.0                                                                                                  \n",
       "\u001b[1;33m • \u001b[0m\u001b[1mUsage\u001b[0m:                                                                                                          \n",
       "\n",
       "\u001b[48;2;39;40;34m                                                                                                                   \u001b[0m\n",
       "\u001b[48;2;39;40;34m \u001b[0m\u001b[38;2;248;248;242;48;2;39;40;34mvisualize_data\u001b[0m\u001b[38;2;248;248;242;48;2;39;40;34m(\u001b[0m\u001b[38;2;248;248;242;48;2;39;40;34minput_data\u001b[0m\u001b[38;2;248;248;242;48;2;39;40;34m)\u001b[0m\u001b[48;2;39;40;34m                                                                                       \u001b[0m\u001b[48;2;39;40;34m \u001b[0m\n",
       "\u001b[48;2;39;40;34m                                                                                                                   \u001b[0m\n",
       "\n",
       "\u001b[1;33m • \u001b[0m\u001b[1mParameters\u001b[0m:                                                                                                     \n",
       "\u001b[1;33m   \u001b[0m\u001b[1;33m • \u001b[0m\u001b[1minput_data\u001b[0m (any): The input dataset to be visualized.                                                        \n",
       "\u001b[1;33m   \u001b[0m\u001b[1;33m   \u001b[0m\u001b[1;33m • \u001b[0mRequired: True                                                                                            \n",
       "\u001b[1;33m • \u001b[0m\u001b[1mReturns\u001b[0m:                                                                                                        \n"
      ]
     },
     "metadata": {},
     "output_type": "display_data"
    },
    {
     "data": {
      "text/html": [
       "<pre style=\"white-space:pre;overflow-x:auto;line-height:normal;font-family:Menlo,'DejaVu Sans Mono',consolas,'Courier New',monospace\">\n",
       "                                                  <span style=\"font-weight: bold; text-decoration: underline\">Skill Details:</span>                                                   \n",
       "\n",
       "<span style=\"color: #808000; text-decoration-color: #808000; font-weight: bold\"> • </span><span style=\"font-weight: bold\">Name</span>: calculate_average                                                                                         \n",
       "<span style=\"color: #808000; text-decoration-color: #808000; font-weight: bold\"> • </span><span style=\"font-weight: bold\">Description</span>: This skill is responsible for calculating the average of the input data. It provides a statistical \n",
       "<span style=\"color: #808000; text-decoration-color: #808000; font-weight: bold\">   </span>analysis of the dataset.                                                                                        \n",
       "<span style=\"color: #808000; text-decoration-color: #808000; font-weight: bold\"> • </span><span style=\"font-weight: bold\">Version</span>: 1.0.0                                                                                                  \n",
       "<span style=\"color: #808000; text-decoration-color: #808000; font-weight: bold\"> • </span><span style=\"font-weight: bold\">Usage</span>:                                                                                                          \n",
       "\n",
       "<span style=\"background-color: #272822\">                                                                                                                   </span>\n",
       "<span style=\"background-color: #272822\"> </span><span style=\"color: #f8f8f2; text-decoration-color: #f8f8f2; background-color: #272822\">average </span><span style=\"color: #ff4689; text-decoration-color: #ff4689; background-color: #272822\">=</span><span style=\"color: #f8f8f2; text-decoration-color: #f8f8f2; background-color: #272822\"> calculate_average(input_data)</span><span style=\"background-color: #272822\">                                                                           </span>\n",
       "<span style=\"background-color: #272822\">                                                                                                                   </span>\n",
       "\n",
       "<span style=\"color: #808000; text-decoration-color: #808000; font-weight: bold\"> • </span><span style=\"font-weight: bold\">Parameters</span>:                                                                                                     \n",
       "<span style=\"color: #808000; text-decoration-color: #808000; font-weight: bold\">    • </span><span style=\"font-weight: bold\">input_data</span> (any): The input dataset to be analyzed.                                                          \n",
       "<span style=\"color: #808000; text-decoration-color: #808000; font-weight: bold\">       • </span>Required: True                                                                                            \n",
       "<span style=\"color: #808000; text-decoration-color: #808000; font-weight: bold\"> • </span><span style=\"font-weight: bold\">Returns</span>:                                                                                                        \n",
       "<span style=\"color: #808000; text-decoration-color: #808000; font-weight: bold\">    • </span><span style=\"font-weight: bold\">average</span> (float): The average of the input data.                                                              \n",
       "</pre>\n"
      ],
      "text/plain": [
       "\n",
       "                                                  \u001b[1;4mSkill Details:\u001b[0m                                                   \n",
       "\n",
       "\u001b[1;33m • \u001b[0m\u001b[1mName\u001b[0m: calculate_average                                                                                         \n",
       "\u001b[1;33m • \u001b[0m\u001b[1mDescription\u001b[0m: This skill is responsible for calculating the average of the input data. It provides a statistical \n",
       "\u001b[1;33m   \u001b[0manalysis of the dataset.                                                                                        \n",
       "\u001b[1;33m • \u001b[0m\u001b[1mVersion\u001b[0m: 1.0.0                                                                                                  \n",
       "\u001b[1;33m • \u001b[0m\u001b[1mUsage\u001b[0m:                                                                                                          \n",
       "\n",
       "\u001b[48;2;39;40;34m                                                                                                                   \u001b[0m\n",
       "\u001b[48;2;39;40;34m \u001b[0m\u001b[38;2;248;248;242;48;2;39;40;34maverage\u001b[0m\u001b[38;2;248;248;242;48;2;39;40;34m \u001b[0m\u001b[38;2;255;70;137;48;2;39;40;34m=\u001b[0m\u001b[38;2;248;248;242;48;2;39;40;34m \u001b[0m\u001b[38;2;248;248;242;48;2;39;40;34mcalculate_average\u001b[0m\u001b[38;2;248;248;242;48;2;39;40;34m(\u001b[0m\u001b[38;2;248;248;242;48;2;39;40;34minput_data\u001b[0m\u001b[38;2;248;248;242;48;2;39;40;34m)\u001b[0m\u001b[48;2;39;40;34m                                                                          \u001b[0m\u001b[48;2;39;40;34m \u001b[0m\n",
       "\u001b[48;2;39;40;34m                                                                                                                   \u001b[0m\n",
       "\n",
       "\u001b[1;33m • \u001b[0m\u001b[1mParameters\u001b[0m:                                                                                                     \n",
       "\u001b[1;33m   \u001b[0m\u001b[1;33m • \u001b[0m\u001b[1minput_data\u001b[0m (any): The input dataset to be analyzed.                                                          \n",
       "\u001b[1;33m   \u001b[0m\u001b[1;33m   \u001b[0m\u001b[1;33m • \u001b[0mRequired: True                                                                                            \n",
       "\u001b[1;33m • \u001b[0m\u001b[1mReturns\u001b[0m:                                                                                                        \n",
       "\u001b[1;33m   \u001b[0m\u001b[1;33m • \u001b[0m\u001b[1maverage\u001b[0m (float): The average of the input data.                                                              \n"
      ]
     },
     "metadata": {},
     "output_type": "display_data"
    }
   ],
   "source": [
    "for decomposed_skill in decomposed_skills:\n",
    "    decomposed_skill.show()"
   ]
  }
 ],
 "metadata": {
  "kernelspec": {
   "display_name": "open_creator_online",
   "language": "python",
   "name": "python3"
  },
  "language_info": {
   "codemirror_mode": {
    "name": "ipython",
    "version": 3
   },
   "file_extension": ".py",
   "mimetype": "text/x-python",
   "name": "python",
   "nbconvert_exporter": "python",
   "pygments_lexer": "ipython3",
   "version": "3.10.0"
  },
  "orig_nbformat": 4
 },
 "nbformat": 4,
 "nbformat_minor": 2
}
