{
 "cells": [
  {
   "cell_type": "code",
   "execution_count": null,
   "metadata": {},
   "outputs": [],
   "source": [
    "from creator import config\n",
    "from creator.memgpt import create_memgpt"
   ]
  },
  {
   "cell_type": "code",
   "execution_count": null,
   "metadata": {},
   "outputs": [],
   "source": [
    "session_id = \"test_session\"\n",
    "config.memgpt_config.session_id = session_id\n",
    "memgpt = create_memgpt(config)"
   ]
  },
  {
   "cell_type": "code",
   "execution_count": null,
   "metadata": {},
   "outputs": [],
   "source": [
    "memgpt.memory_manager.clear()"
   ]
  },
  {
   "cell_type": "code",
   "execution_count": null,
   "metadata": {},
   "outputs": [],
   "source": [
    "memgpt.memory_manager.messages"
   ]
  },
  {
   "cell_type": "code",
   "execution_count": null,
   "metadata": {},
   "outputs": [],
   "source": [
    "\n",
    "while 1:\n",
    "    user_request = input(\"> \")\n",
    "    if user_request.startswith(\"/exit\"):\n",
    "        break\n",
    "    session_id = await memgpt.arun({\"user_request\": user_request, \"session_id\": session_id})"
   ]
  }
 ],
 "metadata": {
  "kernelspec": {
   "display_name": "open_creator_online",
   "language": "python",
   "name": "python3"
  },
  "language_info": {
   "codemirror_mode": {
    "name": "ipython",
    "version": 3
   },
   "file_extension": ".py",
   "mimetype": "text/x-python",
   "name": "python",
   "nbconvert_exporter": "python",
   "pygments_lexer": "ipython3",
   "version": "3.10.0"
  }
 },
 "nbformat": 4,
 "nbformat_minor": 2
}
