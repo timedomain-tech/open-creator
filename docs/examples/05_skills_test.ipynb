{
 "cells": [
  {
   "attachments": {},
   "cell_type": "markdown",
   "metadata": {},
   "source": [
    "#### Method: `test`\n",
    "Validate a skill using a tester agent and generate test summary\n",
    "\n",
    "recommend model: `gpt-4`"
   ]
  },
  {
   "cell_type": "code",
   "execution_count": 1,
   "metadata": {},
   "outputs": [],
   "source": [
    "from creator import create"
   ]
  },
  {
   "cell_type": "code",
   "execution_count": 2,
   "metadata": {},
   "outputs": [
    {
     "name": "stdout",
     "output_type": "stream",
     "text": [
      "\u001b[1m\u001b[36mask_run_code_confirm\u001b[m\u001b[m     \u001b[1m\u001b[36mextract_pdf_section\u001b[m\u001b[m      \u001b[1m\u001b[36msolve_24\u001b[m\u001b[m\n",
      "\u001b[1m\u001b[36mcount_prime_numbers\u001b[m\u001b[m      \u001b[1m\u001b[36mextract_section_from_pdf\u001b[m\u001b[m \u001b[1m\u001b[36msolve_game_of_24\u001b[m\u001b[m\n",
      "\u001b[1m\u001b[36mcreate\u001b[m\u001b[m                   \u001b[1m\u001b[36mfilter_prime_numbers\u001b[m\u001b[m     \u001b[1m\u001b[36msolve_quadratic_equation\u001b[m\u001b[m\n",
      "\u001b[1m\u001b[36mcreate_api\u001b[m\u001b[m               \u001b[1m\u001b[36mgame_of_24\u001b[m\u001b[m               \u001b[1m\u001b[36msolve_random_maze\u001b[m\u001b[m\n",
      "\u001b[1m\u001b[36mcreate_scatter_plot\u001b[m\u001b[m      \u001b[1m\u001b[36mgame_of_24_solver\u001b[m\u001b[m\n",
      "\u001b[1m\u001b[36mdisplay_markdown_message\u001b[m\u001b[m \u001b[1m\u001b[36mlist_python_functions\u001b[m\u001b[m\n"
     ]
    }
   ],
   "source": [
    "!ls ~/.cache/open_creator/skill_library"
   ]
  },
  {
   "cell_type": "code",
   "execution_count": 3,
   "metadata": {},
   "outputs": [],
   "source": [
    "import os\n",
    "skill_path = os.path.join(os.path.expanduser(\"~\"), \".cache\", \"open_creator\", \"skill_library\", \"filter_prime_numbers\")\n",
    "skill = create(skill_path=skill_path)"
   ]
  },
  {
   "cell_type": "code",
   "execution_count": 4,
   "metadata": {},
   "outputs": [
    {
     "data": {
      "text/html": [
       "<pre style=\"white-space:pre;overflow-x:auto;line-height:normal;font-family:Menlo,'DejaVu Sans Mono',consolas,'Courier New',monospace\">\n",
       "                                                  <span style=\"font-weight: bold; text-decoration: underline\">Skill Details:</span>                                                   \n",
       "\n",
       "<span style=\"color: #808000; text-decoration-color: #808000; font-weight: bold\"> • </span><span style=\"font-weight: bold\">Name</span>: filter_prime_numbers                                                                                      \n",
       "<span style=\"color: #808000; text-decoration-color: #808000; font-weight: bold\"> • </span><span style=\"font-weight: bold\">Description</span>: This skill filters the number of prime numbers in a given range.                                   \n",
       "<span style=\"color: #808000; text-decoration-color: #808000; font-weight: bold\"> • </span><span style=\"font-weight: bold\">Version</span>: 1.0.0                                                                                                  \n",
       "<span style=\"color: #808000; text-decoration-color: #808000; font-weight: bold\"> • </span><span style=\"font-weight: bold\">Usage</span>:                                                                                                          \n",
       "\n",
       "<span style=\"background-color: #272822\">                                                                                                                   </span>\n",
       "<span style=\"background-color: #272822\"> </span><span style=\"color: #f8f8f2; text-decoration-color: #f8f8f2; background-color: #272822\">filter_prime_numbers(</span><span style=\"color: #ae81ff; text-decoration-color: #ae81ff; background-color: #272822\">2</span><span style=\"color: #f8f8f2; text-decoration-color: #f8f8f2; background-color: #272822\">, </span><span style=\"color: #ae81ff; text-decoration-color: #ae81ff; background-color: #272822\">201</span><span style=\"color: #f8f8f2; text-decoration-color: #f8f8f2; background-color: #272822\">)</span><span style=\"background-color: #272822\">                                                                                      </span>\n",
       "<span style=\"background-color: #272822\">                                                                                                                   </span>\n",
       "\n",
       "<span style=\"color: #808000; text-decoration-color: #808000; font-weight: bold\"> • </span><span style=\"font-weight: bold\">Parameters</span>:                                                                                                     \n",
       "<span style=\"color: #808000; text-decoration-color: #808000; font-weight: bold\">    • </span><span style=\"font-weight: bold\">start</span> (integer): The starting number of the range.                                                           \n",
       "<span style=\"color: #808000; text-decoration-color: #808000; font-weight: bold\">       • </span>Required: True                                                                                            \n",
       "<span style=\"color: #808000; text-decoration-color: #808000; font-weight: bold\">    • </span><span style=\"font-weight: bold\">end</span> (integer): The ending number of the range.                                                               \n",
       "<span style=\"color: #808000; text-decoration-color: #808000; font-weight: bold\">       • </span>Required: True                                                                                            \n",
       "<span style=\"color: #808000; text-decoration-color: #808000; font-weight: bold\"> • </span><span style=\"font-weight: bold\">Returns</span>:                                                                                                        \n",
       "<span style=\"color: #808000; text-decoration-color: #808000; font-weight: bold\">    • </span><span style=\"font-weight: bold\">count</span> (integer): The number of prime numbers in the given range.                                             \n",
       "</pre>\n"
      ],
      "text/plain": [
       "\n",
       "                                                  \u001b[1;4mSkill Details:\u001b[0m                                                   \n",
       "\n",
       "\u001b[1;33m • \u001b[0m\u001b[1mName\u001b[0m: filter_prime_numbers                                                                                      \n",
       "\u001b[1;33m • \u001b[0m\u001b[1mDescription\u001b[0m: This skill filters the number of prime numbers in a given range.                                   \n",
       "\u001b[1;33m • \u001b[0m\u001b[1mVersion\u001b[0m: 1.0.0                                                                                                  \n",
       "\u001b[1;33m • \u001b[0m\u001b[1mUsage\u001b[0m:                                                                                                          \n",
       "\n",
       "\u001b[48;2;39;40;34m                                                                                                                   \u001b[0m\n",
       "\u001b[48;2;39;40;34m \u001b[0m\u001b[38;2;248;248;242;48;2;39;40;34mfilter_prime_numbers\u001b[0m\u001b[38;2;248;248;242;48;2;39;40;34m(\u001b[0m\u001b[38;2;174;129;255;48;2;39;40;34m2\u001b[0m\u001b[38;2;248;248;242;48;2;39;40;34m,\u001b[0m\u001b[38;2;248;248;242;48;2;39;40;34m \u001b[0m\u001b[38;2;174;129;255;48;2;39;40;34m201\u001b[0m\u001b[38;2;248;248;242;48;2;39;40;34m)\u001b[0m\u001b[48;2;39;40;34m                                                                                     \u001b[0m\u001b[48;2;39;40;34m \u001b[0m\n",
       "\u001b[48;2;39;40;34m                                                                                                                   \u001b[0m\n",
       "\n",
       "\u001b[1;33m • \u001b[0m\u001b[1mParameters\u001b[0m:                                                                                                     \n",
       "\u001b[1;33m   \u001b[0m\u001b[1;33m • \u001b[0m\u001b[1mstart\u001b[0m (integer): The starting number of the range.                                                           \n",
       "\u001b[1;33m   \u001b[0m\u001b[1;33m   \u001b[0m\u001b[1;33m • \u001b[0mRequired: True                                                                                            \n",
       "\u001b[1;33m   \u001b[0m\u001b[1;33m • \u001b[0m\u001b[1mend\u001b[0m (integer): The ending number of the range.                                                               \n",
       "\u001b[1;33m   \u001b[0m\u001b[1;33m   \u001b[0m\u001b[1;33m • \u001b[0mRequired: True                                                                                            \n",
       "\u001b[1;33m • \u001b[0m\u001b[1mReturns\u001b[0m:                                                                                                        \n",
       "\u001b[1;33m   \u001b[0m\u001b[1;33m • \u001b[0m\u001b[1mcount\u001b[0m (integer): The number of prime numbers in the given range.                                             \n"
      ]
     },
     "metadata": {},
     "output_type": "display_data"
    }
   ],
   "source": [
    "skill.show()"
   ]
  },
  {
   "cell_type": "code",
   "execution_count": 5,
   "metadata": {},
   "outputs": [
    {
     "data": {
      "application/vnd.jupyter.widget-view+json": {
       "model_id": "747b76bb1aba4f8c930caeb9a40797de",
       "version_major": 2,
       "version_minor": 0
      },
      "text/plain": [
       "Output()"
      ]
     },
     "metadata": {},
     "output_type": "display_data"
    },
    {
     "data": {
      "application/vnd.jupyter.widget-view+json": {
       "model_id": "3c838524ec9042ce85d51eca088af2f4",
       "version_major": 2,
       "version_minor": 0
      },
      "text/plain": [
       "Output()"
      ]
     },
     "metadata": {},
     "output_type": "display_data"
    },
    {
     "data": {
      "text/html": [
       "<pre style=\"white-space:pre;overflow-x:auto;line-height:normal;font-family:Menlo,'DejaVu Sans Mono',consolas,'Courier New',monospace\"></pre>\n"
      ],
      "text/plain": []
     },
     "metadata": {},
     "output_type": "display_data"
    },
    {
     "data": {
      "text/html": [
       "<pre style=\"white-space:pre;overflow-x:auto;line-height:normal;font-family:Menlo,'DejaVu Sans Mono',consolas,'Courier New',monospace\"></pre>\n"
      ],
      "text/plain": []
     },
     "metadata": {},
     "output_type": "display_data"
    },
    {
     "data": {
      "application/vnd.jupyter.widget-view+json": {
       "model_id": "edfeec012c7d42d9b2d69cf9252f2fba",
       "version_major": 2,
       "version_minor": 0
      },
      "text/plain": [
       "Output()"
      ]
     },
     "metadata": {},
     "output_type": "display_data"
    },
    {
     "data": {
      "text/html": [
       "<pre style=\"white-space:pre;overflow-x:auto;line-height:normal;font-family:Menlo,'DejaVu Sans Mono',consolas,'Courier New',monospace\"></pre>\n"
      ],
      "text/plain": []
     },
     "metadata": {},
     "output_type": "display_data"
    },
    {
     "data": {
      "text/html": [
       "<pre style=\"white-space:pre;overflow-x:auto;line-height:normal;font-family:Menlo,'DejaVu Sans Mono',consolas,'Courier New',monospace\"></pre>\n"
      ],
      "text/plain": []
     },
     "metadata": {},
     "output_type": "display_data"
    },
    {
     "data": {
      "text/html": [
       "<pre style=\"white-space:pre;overflow-x:auto;line-height:normal;font-family:Menlo,'DejaVu Sans Mono',consolas,'Courier New',monospace\">Langsmith Run URL:                                                                                                 \n",
       "<a href=\"http://localhost/o/00000000-0000-0000-0000-000000000000/projects/p/856d5024-48fe-4a9c-b1f9-5236f8d3aebd/r/2bff98db-7d63-4608-a487-ea7ec12f05a2?poll=true\" target=\"_blank\"><span style=\"color: #000080; text-decoration-color: #000080; text-decoration: underline\">http://localhost/o/00000000-0000-0000-0000-000000000000/projects/p/856d5024-48fe-4a9c-b1f9-5236f8d3aebd/r/2bff98db-</span></a>\n",
       "<a href=\"http://localhost/o/00000000-0000-0000-0000-000000000000/projects/p/856d5024-48fe-4a9c-b1f9-5236f8d3aebd/r/2bff98db-7d63-4608-a487-ea7ec12f05a2?poll=true\" target=\"_blank\"><span style=\"color: #000080; text-decoration-color: #000080; text-decoration: underline\">7d63-4608-a487-ea7ec12f05a2?poll=true</span></a>                                                                              \n",
       "</pre>\n"
      ],
      "text/plain": [
       "Langsmith Run URL:                                                                                                 \n",
       "\u001b]8;id=883877;http://localhost/o/00000000-0000-0000-0000-000000000000/projects/p/856d5024-48fe-4a9c-b1f9-5236f8d3aebd/r/2bff98db-7d63-4608-a487-ea7ec12f05a2?poll=true\u001b\\\u001b[4;34mhttp://localhost/o/00000000-0000-0000-0000-000000000000/projects/p/856d5024-48fe-4a9c-b1f9-5236f8d3aebd/r/2bff98db-\u001b[0m\u001b]8;;\u001b\\\n",
       "\u001b]8;id=883877;http://localhost/o/00000000-0000-0000-0000-000000000000/projects/p/856d5024-48fe-4a9c-b1f9-5236f8d3aebd/r/2bff98db-7d63-4608-a487-ea7ec12f05a2?poll=true\u001b\\\u001b[4;34m7d63-4608-a487-ea7ec12f05a2?poll=true\u001b[0m\u001b]8;;\u001b\\                                                                              \n"
      ]
     },
     "metadata": {},
     "output_type": "display_data"
    }
   ],
   "source": [
    "# since unitests output does not work in notebook properly, we will directly show its output markdown\n",
    "test_summary = skill.test()"
   ]
  },
  {
   "cell_type": "code",
   "execution_count": 6,
   "metadata": {},
   "outputs": [
    {
     "data": {
      "text/html": [
       "<pre style=\"white-space:pre;overflow-x:auto;line-height:normal;font-family:Menlo,'DejaVu Sans Mono',consolas,'Courier New',monospace\">\n",
       "                                                   <span style=\"font-weight: bold; text-decoration: underline\">Test Summary</span>                                                    \n",
       "\n",
       "                                                    <span style=\"font-weight: bold\">Test Case 0</span>                                                    \n",
       "\n",
       "<span style=\"color: #808000; text-decoration-color: #808000; font-weight: bold\"> • </span><span style=\"font-weight: bold\">Test Input:</span> (2, 10)                                                                                             \n",
       "<span style=\"color: #808000; text-decoration-color: #808000; font-weight: bold\"> • </span><span style=\"font-weight: bold\">Run Command:</span> filter_prime_numbers(2, 10)                                                                        \n",
       "<span style=\"color: #808000; text-decoration-color: #808000; font-weight: bold\"> • </span><span style=\"font-weight: bold\">Expected Result:</span> 4                                                                                              \n",
       "<span style=\"color: #808000; text-decoration-color: #808000; font-weight: bold\"> • </span><span style=\"font-weight: bold\">Actual Result:</span> 4                                                                                                \n",
       "<span style=\"color: #808000; text-decoration-color: #808000; font-weight: bold\"> • </span><span style=\"font-weight: bold\">Is Passed:</span> Yes                                                                                                  \n",
       "\n",
       "<span style=\"color: #808000; text-decoration-color: #808000\">───────────────────────────────────────────────────────────────────────────────────────────────────────────────────</span>\n",
       "                                                    <span style=\"font-weight: bold\">Test Case 1</span>                                                    \n",
       "\n",
       "<span style=\"color: #808000; text-decoration-color: #808000; font-weight: bold\"> • </span><span style=\"font-weight: bold\">Test Input:</span> (11, 20)                                                                                            \n",
       "<span style=\"color: #808000; text-decoration-color: #808000; font-weight: bold\"> • </span><span style=\"font-weight: bold\">Run Command:</span> filter_prime_numbers(11, 20)                                                                       \n",
       "<span style=\"color: #808000; text-decoration-color: #808000; font-weight: bold\"> • </span><span style=\"font-weight: bold\">Expected Result:</span> 4                                                                                              \n",
       "<span style=\"color: #808000; text-decoration-color: #808000; font-weight: bold\"> • </span><span style=\"font-weight: bold\">Actual Result:</span> 4                                                                                                \n",
       "<span style=\"color: #808000; text-decoration-color: #808000; font-weight: bold\"> • </span><span style=\"font-weight: bold\">Is Passed:</span> Yes                                                                                                  \n",
       "\n",
       "<span style=\"color: #808000; text-decoration-color: #808000\">───────────────────────────────────────────────────────────────────────────────────────────────────────────────────</span>\n",
       "                                                    <span style=\"font-weight: bold\">Test Case 2</span>                                                    \n",
       "\n",
       "<span style=\"color: #808000; text-decoration-color: #808000; font-weight: bold\"> • </span><span style=\"font-weight: bold\">Test Input:</span> (21, 30)                                                                                            \n",
       "<span style=\"color: #808000; text-decoration-color: #808000; font-weight: bold\"> • </span><span style=\"font-weight: bold\">Run Command:</span> filter_prime_numbers(21, 30)                                                                       \n",
       "<span style=\"color: #808000; text-decoration-color: #808000; font-weight: bold\"> • </span><span style=\"font-weight: bold\">Expected Result:</span> 2                                                                                              \n",
       "<span style=\"color: #808000; text-decoration-color: #808000; font-weight: bold\"> • </span><span style=\"font-weight: bold\">Actual Result:</span> 2                                                                                                \n",
       "<span style=\"color: #808000; text-decoration-color: #808000; font-weight: bold\"> • </span><span style=\"font-weight: bold\">Is Passed:</span> Yes                                                                                                  \n",
       "\n",
       "<span style=\"color: #808000; text-decoration-color: #808000\">───────────────────────────────────────────────────────────────────────────────────────────────────────────────────</span>\n",
       "                                                    <span style=\"font-weight: bold\">Test Case 3</span>                                                    \n",
       "\n",
       "<span style=\"color: #808000; text-decoration-color: #808000; font-weight: bold\"> • </span><span style=\"font-weight: bold\">Test Input:</span> (31, 40)                                                                                            \n",
       "<span style=\"color: #808000; text-decoration-color: #808000; font-weight: bold\"> • </span><span style=\"font-weight: bold\">Run Command:</span> filter_prime_numbers(31, 40)                                                                       \n",
       "<span style=\"color: #808000; text-decoration-color: #808000; font-weight: bold\"> • </span><span style=\"font-weight: bold\">Expected Result:</span> 2                                                                                              \n",
       "<span style=\"color: #808000; text-decoration-color: #808000; font-weight: bold\"> • </span><span style=\"font-weight: bold\">Actual Result:</span> 2                                                                                                \n",
       "<span style=\"color: #808000; text-decoration-color: #808000; font-weight: bold\"> • </span><span style=\"font-weight: bold\">Is Passed:</span> Yes                                                                                                  \n",
       "\n",
       "<span style=\"color: #808000; text-decoration-color: #808000\">───────────────────────────────────────────────────────────────────────────────────────────────────────────────────</span>\n",
       "                                                    <span style=\"font-weight: bold\">Test Case 4</span>                                                    \n",
       "\n",
       "<span style=\"color: #808000; text-decoration-color: #808000; font-weight: bold\"> • </span><span style=\"font-weight: bold\">Test Input:</span> (41, 50)                                                                                            \n",
       "<span style=\"color: #808000; text-decoration-color: #808000; font-weight: bold\"> • </span><span style=\"font-weight: bold\">Run Command:</span> filter_prime_numbers(41, 50)                                                                       \n",
       "<span style=\"color: #808000; text-decoration-color: #808000; font-weight: bold\"> • </span><span style=\"font-weight: bold\">Expected Result:</span> 3                                                                                              \n",
       "<span style=\"color: #808000; text-decoration-color: #808000; font-weight: bold\"> • </span><span style=\"font-weight: bold\">Actual Result:</span> 3                                                                                                \n",
       "<span style=\"color: #808000; text-decoration-color: #808000; font-weight: bold\"> • </span><span style=\"font-weight: bold\">Is Passed:</span> Yes                                                                                                  \n",
       "\n",
       "<span style=\"color: #808000; text-decoration-color: #808000\">───────────────────────────────────────────────────────────────────────────────────────────────────────────────────</span>\n",
       "</pre>\n"
      ],
      "text/plain": [
       "\n",
       "                                                   \u001b[1;4mTest Summary\u001b[0m                                                    \n",
       "\n",
       "                                                    \u001b[1mTest Case 0\u001b[0m                                                    \n",
       "\n",
       "\u001b[1;33m • \u001b[0m\u001b[1mTest Input:\u001b[0m (2, 10)                                                                                             \n",
       "\u001b[1;33m • \u001b[0m\u001b[1mRun Command:\u001b[0m filter_prime_numbers(2, 10)                                                                        \n",
       "\u001b[1;33m • \u001b[0m\u001b[1mExpected Result:\u001b[0m 4                                                                                              \n",
       "\u001b[1;33m • \u001b[0m\u001b[1mActual Result:\u001b[0m 4                                                                                                \n",
       "\u001b[1;33m • \u001b[0m\u001b[1mIs Passed:\u001b[0m Yes                                                                                                  \n",
       "\n",
       "\u001b[33m───────────────────────────────────────────────────────────────────────────────────────────────────────────────────\u001b[0m\n",
       "                                                    \u001b[1mTest Case 1\u001b[0m                                                    \n",
       "\n",
       "\u001b[1;33m • \u001b[0m\u001b[1mTest Input:\u001b[0m (11, 20)                                                                                            \n",
       "\u001b[1;33m • \u001b[0m\u001b[1mRun Command:\u001b[0m filter_prime_numbers(11, 20)                                                                       \n",
       "\u001b[1;33m • \u001b[0m\u001b[1mExpected Result:\u001b[0m 4                                                                                              \n",
       "\u001b[1;33m • \u001b[0m\u001b[1mActual Result:\u001b[0m 4                                                                                                \n",
       "\u001b[1;33m • \u001b[0m\u001b[1mIs Passed:\u001b[0m Yes                                                                                                  \n",
       "\n",
       "\u001b[33m───────────────────────────────────────────────────────────────────────────────────────────────────────────────────\u001b[0m\n",
       "                                                    \u001b[1mTest Case 2\u001b[0m                                                    \n",
       "\n",
       "\u001b[1;33m • \u001b[0m\u001b[1mTest Input:\u001b[0m (21, 30)                                                                                            \n",
       "\u001b[1;33m • \u001b[0m\u001b[1mRun Command:\u001b[0m filter_prime_numbers(21, 30)                                                                       \n",
       "\u001b[1;33m • \u001b[0m\u001b[1mExpected Result:\u001b[0m 2                                                                                              \n",
       "\u001b[1;33m • \u001b[0m\u001b[1mActual Result:\u001b[0m 2                                                                                                \n",
       "\u001b[1;33m • \u001b[0m\u001b[1mIs Passed:\u001b[0m Yes                                                                                                  \n",
       "\n",
       "\u001b[33m───────────────────────────────────────────────────────────────────────────────────────────────────────────────────\u001b[0m\n",
       "                                                    \u001b[1mTest Case 3\u001b[0m                                                    \n",
       "\n",
       "\u001b[1;33m • \u001b[0m\u001b[1mTest Input:\u001b[0m (31, 40)                                                                                            \n",
       "\u001b[1;33m • \u001b[0m\u001b[1mRun Command:\u001b[0m filter_prime_numbers(31, 40)                                                                       \n",
       "\u001b[1;33m • \u001b[0m\u001b[1mExpected Result:\u001b[0m 2                                                                                              \n",
       "\u001b[1;33m • \u001b[0m\u001b[1mActual Result:\u001b[0m 2                                                                                                \n",
       "\u001b[1;33m • \u001b[0m\u001b[1mIs Passed:\u001b[0m Yes                                                                                                  \n",
       "\n",
       "\u001b[33m───────────────────────────────────────────────────────────────────────────────────────────────────────────────────\u001b[0m\n",
       "                                                    \u001b[1mTest Case 4\u001b[0m                                                    \n",
       "\n",
       "\u001b[1;33m • \u001b[0m\u001b[1mTest Input:\u001b[0m (41, 50)                                                                                            \n",
       "\u001b[1;33m • \u001b[0m\u001b[1mRun Command:\u001b[0m filter_prime_numbers(41, 50)                                                                       \n",
       "\u001b[1;33m • \u001b[0m\u001b[1mExpected Result:\u001b[0m 3                                                                                              \n",
       "\u001b[1;33m • \u001b[0m\u001b[1mActual Result:\u001b[0m 3                                                                                                \n",
       "\u001b[1;33m • \u001b[0m\u001b[1mIs Passed:\u001b[0m Yes                                                                                                  \n",
       "\n",
       "\u001b[33m───────────────────────────────────────────────────────────────────────────────────────────────────────────────────\u001b[0m\n"
      ]
     },
     "metadata": {},
     "output_type": "display_data"
    }
   ],
   "source": [
    "test_summary.show()"
   ]
  },
  {
   "cell_type": "code",
   "execution_count": 7,
   "metadata": {},
   "outputs": [],
   "source": [
    "def filter_prime_numbers(start, end):\n",
    "    def isPrime(num):\n",
    "        if num < 2:\n",
    "            return False\n",
    "        for i in range(2, int(num ** 0.5) + 1):\n",
    "            if num % i == 0:\n",
    "                return False\n",
    "        return True\n",
    "\n",
    "    count = 0\n",
    "    for num in range(start, end + 1):\n",
    "        if isPrime(num):\n",
    "            count += 1\n",
    "    return count\n"
   ]
  },
  {
   "cell_type": "code",
   "execution_count": 8,
   "metadata": {},
   "outputs": [],
   "source": [
    "import unittest                                                                                                                                                        \n",
    "                                                                                                                                                                        \n",
    "class TestFilterPrimeNumbers(unittest.TestCase):                                                                                                                       \n",
    "    def test_case_1(self):                                                                                                                                             \n",
    "        self.assertEqual(filter_prime_numbers(2, 10), 4)                                                                                                               \n",
    "                                                                                                                                                                        \n",
    "    def test_case_2(self):                                                                                                                                             \n",
    "        self.assertEqual(filter_prime_numbers(11, 20), 4)                                                                                                              \n",
    "                                                                                                                                                                        \n",
    "    def test_case_3(self):                                                                                                                                             \n",
    "        self.assertEqual(filter_prime_numbers(21, 30), 2)                                                                                                              \n",
    "                                                                                                                                                                        \n",
    "    def test_case_4(self):                                                                                                                                             \n",
    "        self.assertEqual(filter_prime_numbers(31, 40), 2)                                                                                                              \n",
    "                                                                                                                                                                        \n",
    "    def test_case_5(self):                                                                                                                                             \n",
    "        self.assertEqual(filter_prime_numbers(41, 50), 3)                                                                                                              \n",
    "\n",
    "import io\n",
    "stream = io.StringIO()\n",
    "runner = unittest.TextTestRunner(stream=stream)                                                                                                                                                 \n",
    "unittest_result = runner.run(unittest.TestLoader().loadTestsFromTestCase(TestFilterPrimeNumbers))\n",
    "assert len(unittest_result.failures) == 0, stream.getvalue()"
   ]
  }
 ],
 "metadata": {
  "kernelspec": {
   "display_name": "open_creator_online",
   "language": "python",
   "name": "python3"
  },
  "language_info": {
   "codemirror_mode": {
    "name": "ipython",
    "version": 3
   },
   "file_extension": ".py",
   "mimetype": "text/x-python",
   "name": "python",
   "nbconvert_exporter": "python",
   "pygments_lexer": "ipython3",
   "version": "3.10.0"
  },
  "orig_nbformat": 4
 },
 "nbformat": 4,
 "nbformat_minor": 2
}
